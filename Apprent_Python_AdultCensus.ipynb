{
 "cells": [
  {
   "cell_type": "markdown",
   "metadata": {
    "colab_type": "text",
    "id": "PmkSlyTHOn1W"
   },
   "source": [
    "<center>\n",
    "<a href=\"http://www.insa-toulouse.fr/\" ><img src=\"http://www.math.univ-toulouse.fr/~besse/Wikistat/Images/logo-insa.jpg\" style=\"float:left; max-width: 120px; display: inline\" alt=\"INSA\"/></a> \n",
    "\n",
    "<a href=\"http://wikistat.fr/\" ><img src=\"http://www.math.univ-toulouse.fr/~besse/Wikistat/Images/wikistat.jpg\" style=\"float:right; max-width: 250px; display: inline\"  alt=\"Wikistat\"/></a>\n",
    "</center>"
   ]
  },
  {
   "cell_type": "markdown",
   "metadata": {
    "colab_type": "text",
    "id": "aFssHH1_On1Z"
   },
   "source": [
    "# [Scénario d'Apprentissage Statistique](https://github.com/wikistat/Apprentissage)"
   ]
  },
  {
   "cell_type": "markdown",
   "metadata": {
    "colab_type": "text",
    "id": "qrVWmAraOn1b"
   },
   "source": [
    "# Modélisation de données d'enquête en <a href=\"https://www.python.org/\"><img src=\"https://upload.wikimedia.org/wikipedia/commons/thumb/f/f8/Python_logo_and_wordmark.svg/390px-Python_logo_and_wordmark.svg.png\" style=\"max-width: 120px; display: inline\" alt=\"Python\"/></a> \n",
    "# Prévision du seuil de revenu "
   ]
  },
  {
   "cell_type": "markdown",
   "metadata": {
    "colab_type": "text",
    "id": "xgpgLMR0On1d"
   },
   "source": [
    "#### Résumé\n",
    "Analyse du revenu ou plutôt du dépassement d'un seuil de revenu sur des données issues d'un sondage aux USA. Modélisation et prévision du dépassement d'un seuil de revenu. Comparaison de la pertinence et de l'efficacité de différentes méthodes de modélisation ou apprentissage.\n",
    "## Introduction\n",
    "Des données publiques disponibles sur le site [UCI repository](http://archive.ics.uci.edu/ml/) sont extraites de la base de données issue du recensement réalisé aux Etats Unis en 1994. Ces données son largement utilisées et font référence comme outil de *benchmark* pour comparer les performances de méthodes d’apprentissage ou modélisation statistique. L’objectif est  de prévoir la variable binaire « revenu annuel » (`income`) supérieur ou inférieur à 50k$. Il ne s’agit pas encore de données massives mais, en concaténant les fichiers fournis d'apprentissage et de test, 48841 individus sont décrits par les 14 variables du tableau ci-dessous. La phase préliminaire de préparation et exploration des données est décrite dans un scénario de la [Saison 2: Exploration](https://github.com/wikistat/Exploration). Les codes de préparation des données sont rapidement repris afin de démarrer du même jeu de données.\n",
    "\n",
    "Num| Libellé |\tEnsemble de valeurs\n",
    "-|--|--|--\n",
    "1|`Age`|\treal\n",
    "2|\t`workClass`|\tPrivate, Self-emp-not-inc, Self-emp-inc, Federal-gov, Local-gov, State-gov, Without-pay, Never-worked\n",
    "3|\t`fnlwgt`|\treal\n",
    "4|\t`education`|\tBachelors, Some-college, 11th, HS-grad, Prof-school, Assoc-acdm, Assoc-voc, 9th, 7th-8th, 12th, Masters, 1st-4th, 10th, Doctorate, 5th-6th, Preschool\n",
    "5|\t`educNum`|\tinteger\n",
    "6|\t`mariStat`|\tMarried-civ-spouse, Divorced, Never-married, Separated, Widowed, Married-spouse-absent, Married-AF-spouse\n",
    "7|\t`occup`|\tTech-support, Craft-repair, Other-service, Sales, Exec-managerial, Prof-specialty, Handlers-cleaners, Machine-op-inspct, Adm-clerical, Farming-fishing, Transport-moving, Priv-house-serv, Protective-serv, Armed-Forces\n",
    "8|\t`relationship`|\tWife, Own-child, Husband, Not-in-family, Other-relative, Unmarried\n",
    "9|\t`origEthn`|\tWhite, Asian-Pac-Islander, Amer-Indian-Eskimo, Other, Black\n",
    "10|\t`sex`|\tFemale, Male\n",
    "11|\t`capitalGain`|\treal  \n",
    "12|\t`capitalLoss`|\treal\n",
    "13|\t`hoursWeek`|\treal\n",
    "14|\t`nativCountry`|\tUnited-States, Cambodia, England, Puerto-Rico, Canada, Germany, Outlying-US(Guam-USVI-etc), India, Japan, Greece, South, China, Cuba, Iran, Honduras, Philippines, Italy, Poland, Jamaica, Vietnam, Mexico, Portugal, Ireland, France, Dominican-Republic, Laos, Ecuador, Taiwan, Haiti, Columbia, Hungary, Guatemala, Nicaragua, Scotland, Thailand, Yugoslavia, El-Salvador, Trinadad&Tobago, Peru, Hong, Holand-Netherlands\n",
    "15|\t`income`|\t\tincHigh (>50K), incLow (<=50K)\n",
    "\n",
    "Une première étape permettant de vérifier, sélectionner, recoder les données, a permis de construire un fichier de type `.csv` qui est utilisé dans ce calepin.\n",
    "\n",
    "http://cseweb.ucsd.edu/classes/sp15/cse190-c/reports/sp15/048.pdf\n",
    "\n",
    "https://github.com/wikistat/Fair-ML-4-Ethical-AI/blob/master/AdultCensus/AdultCensus-R-biasDetection.ipynb\n",
    "\n",
    "\n",
    "**Répondre aux questions en s'aidant des résultats des exécutions**."
   ]
  },
  {
   "cell_type": "markdown",
   "metadata": {
    "colab_type": "text",
    "id": "ggZ2ru6QOn1f"
   },
   "source": [
    "## 1 Préparation des données\n",
    "### 1.1 Lecture  \n",
    "\n",
    "Lire les données présentes  dans le répertoire courant. "
   ]
  },
  {
   "cell_type": "code",
   "execution_count": 1,
   "metadata": {
    "ExecuteTime": {
     "end_time": "2020-01-13T13:40:44.972347Z",
     "start_time": "2020-01-13T13:40:44.962747Z"
    },
    "colab": {
     "base_uri": "https://localhost:8080/",
     "height": 34
    },
    "colab_type": "code",
    "id": "dMLYiA81Op2P",
    "outputId": "574ffd25-8bfa-4615-a628-2850a24ededf",
    "pycharm": {
     "is_executing": false
    }
   },
   "outputs": [
    {
     "data": {
      "text/plain": [
       "'adultTrainTest.csv'"
      ]
     },
     "execution_count": 1,
     "metadata": {},
     "output_type": "execute_result"
    }
   ],
   "source": [
    "try:\n",
    "    from google.colab import drive\n",
    "    drive.mount('/content/drive',force_remount=True)\n",
    "    path = '/content/drive/My Drive/adultTrainTest.csv'\n",
    "except ImportError as e:\n",
    "    path = 'adultTrainTest.csv'  # module doesn't exist, deal with it.\n",
    "\n",
    "path"
   ]
  },
  {
   "cell_type": "code",
   "execution_count": 2,
   "metadata": {
    "ExecuteTime": {
     "end_time": "2020-01-13T13:40:45.505353Z",
     "start_time": "2020-01-13T13:40:45.014081Z"
    },
    "colab": {
     "base_uri": "https://localhost:8080/",
     "height": 340
    },
    "colab_type": "code",
    "id": "8n7L3S5gOn1h",
    "outputId": "92bf9e62-246d-4aa0-c5bf-6be70dbe75d2",
    "pycharm": {
     "is_executing": false
    }
   },
   "outputs": [
    {
     "data": {
      "text/html": [
       "<div>\n",
       "<style scoped>\n",
       "    .dataframe tbody tr th:only-of-type {\n",
       "        vertical-align: middle;\n",
       "    }\n",
       "\n",
       "    .dataframe tbody tr th {\n",
       "        vertical-align: top;\n",
       "    }\n",
       "\n",
       "    .dataframe thead th {\n",
       "        text-align: right;\n",
       "    }\n",
       "</style>\n",
       "<table border=\"1\" class=\"dataframe\">\n",
       "  <thead>\n",
       "    <tr style=\"text-align: right;\">\n",
       "      <th></th>\n",
       "      <th>age</th>\n",
       "      <th>workClass</th>\n",
       "      <th>fnlwgt</th>\n",
       "      <th>education</th>\n",
       "      <th>educNum</th>\n",
       "      <th>mariStat</th>\n",
       "      <th>occup</th>\n",
       "      <th>relationship</th>\n",
       "      <th>origEthn</th>\n",
       "      <th>sex</th>\n",
       "      <th>capitalGain</th>\n",
       "      <th>capitalLoss</th>\n",
       "      <th>hoursWeek</th>\n",
       "      <th>nativCountry</th>\n",
       "      <th>income</th>\n",
       "    </tr>\n",
       "  </thead>\n",
       "  <tbody>\n",
       "    <tr>\n",
       "      <th>0</th>\n",
       "      <td>39</td>\n",
       "      <td>State-gov</td>\n",
       "      <td>77516</td>\n",
       "      <td>Bachelors</td>\n",
       "      <td>13</td>\n",
       "      <td>Never-married</td>\n",
       "      <td>Adm-clerical</td>\n",
       "      <td>Not-in-family</td>\n",
       "      <td>White</td>\n",
       "      <td>Male</td>\n",
       "      <td>2174</td>\n",
       "      <td>0</td>\n",
       "      <td>40</td>\n",
       "      <td>United-States</td>\n",
       "      <td>&lt;=50K</td>\n",
       "    </tr>\n",
       "    <tr>\n",
       "      <th>1</th>\n",
       "      <td>50</td>\n",
       "      <td>Self-emp-not-inc</td>\n",
       "      <td>83311</td>\n",
       "      <td>Bachelors</td>\n",
       "      <td>13</td>\n",
       "      <td>Married-civ-spouse</td>\n",
       "      <td>Exec-managerial</td>\n",
       "      <td>Husband</td>\n",
       "      <td>White</td>\n",
       "      <td>Male</td>\n",
       "      <td>0</td>\n",
       "      <td>0</td>\n",
       "      <td>13</td>\n",
       "      <td>United-States</td>\n",
       "      <td>&lt;=50K</td>\n",
       "    </tr>\n",
       "    <tr>\n",
       "      <th>2</th>\n",
       "      <td>38</td>\n",
       "      <td>Private</td>\n",
       "      <td>215646</td>\n",
       "      <td>HS-grad</td>\n",
       "      <td>9</td>\n",
       "      <td>Divorced</td>\n",
       "      <td>Handlers-cleaners</td>\n",
       "      <td>Not-in-family</td>\n",
       "      <td>White</td>\n",
       "      <td>Male</td>\n",
       "      <td>0</td>\n",
       "      <td>0</td>\n",
       "      <td>40</td>\n",
       "      <td>United-States</td>\n",
       "      <td>&lt;=50K</td>\n",
       "    </tr>\n",
       "    <tr>\n",
       "      <th>3</th>\n",
       "      <td>53</td>\n",
       "      <td>Private</td>\n",
       "      <td>234721</td>\n",
       "      <td>11th</td>\n",
       "      <td>7</td>\n",
       "      <td>Married-civ-spouse</td>\n",
       "      <td>Handlers-cleaners</td>\n",
       "      <td>Husband</td>\n",
       "      <td>Black</td>\n",
       "      <td>Male</td>\n",
       "      <td>0</td>\n",
       "      <td>0</td>\n",
       "      <td>40</td>\n",
       "      <td>United-States</td>\n",
       "      <td>&lt;=50K</td>\n",
       "    </tr>\n",
       "    <tr>\n",
       "      <th>4</th>\n",
       "      <td>28</td>\n",
       "      <td>Private</td>\n",
       "      <td>338409</td>\n",
       "      <td>Bachelors</td>\n",
       "      <td>13</td>\n",
       "      <td>Married-civ-spouse</td>\n",
       "      <td>Prof-specialty</td>\n",
       "      <td>Wife</td>\n",
       "      <td>Black</td>\n",
       "      <td>Female</td>\n",
       "      <td>0</td>\n",
       "      <td>0</td>\n",
       "      <td>40</td>\n",
       "      <td>Cuba</td>\n",
       "      <td>&lt;=50K</td>\n",
       "    </tr>\n",
       "  </tbody>\n",
       "</table>\n",
       "</div>"
      ],
      "text/plain": [
       "   age          workClass  fnlwgt   education  educNum             mariStat  \\\n",
       "0   39          State-gov   77516   Bachelors       13        Never-married   \n",
       "1   50   Self-emp-not-inc   83311   Bachelors       13   Married-civ-spouse   \n",
       "2   38            Private  215646     HS-grad        9             Divorced   \n",
       "3   53            Private  234721        11th        7   Married-civ-spouse   \n",
       "4   28            Private  338409   Bachelors       13   Married-civ-spouse   \n",
       "\n",
       "                occup    relationship origEthn      sex  capitalGain  \\\n",
       "0        Adm-clerical   Not-in-family    White     Male         2174   \n",
       "1     Exec-managerial         Husband    White     Male            0   \n",
       "2   Handlers-cleaners   Not-in-family    White     Male            0   \n",
       "3   Handlers-cleaners         Husband    Black     Male            0   \n",
       "4      Prof-specialty            Wife    Black   Female            0   \n",
       "\n",
       "   capitalLoss  hoursWeek    nativCountry  income  \n",
       "0            0         40   United-States   <=50K  \n",
       "1            0         13   United-States   <=50K  \n",
       "2            0         40   United-States   <=50K  \n",
       "3            0         40   United-States   <=50K  \n",
       "4            0         40            Cuba   <=50K  "
      ]
     },
     "execution_count": 2,
     "metadata": {},
     "output_type": "execute_result"
    }
   ],
   "source": [
    "%matplotlib inline\n",
    "# Importations \n",
    "import matplotlib.pyplot as plt\n",
    "import pandas as pd\n",
    "import numpy as np\n",
    "adult=pd.read_csv(path)\n",
    "adult.head()"
   ]
  },
  {
   "cell_type": "markdown",
   "metadata": {
    "colab_type": "text",
    "id": "aSg-IOVDOn1n"
   },
   "source": [
    "### 1.2 Préparation des données\n",
    "\n",
    "Un travail important de nettoyage des données doit être réalisé pour supprimer les données manquantes, éviter des erreurs\n",
    " de codage, regrouper des modalités bien trop nombreuses, éliminer des variables redondantes. \n",
    " Cette étape de préparation et d'exploration est réalisée dans la [saison 2- exploration](https://github.com/wikistat/Exploration). \n",
    " Seuls sont reproduits ci-dessous les codes permettant la préparation du fichier."
   ]
  },
  {
   "cell_type": "code",
   "execution_count": 3,
   "metadata": {
    "ExecuteTime": {
     "end_time": "2020-01-13T13:40:45.511441Z",
     "start_time": "2020-01-13T13:40:45.506855Z"
    },
    "colab": {},
    "colab_type": "code",
    "id": "T-JsPLPfOn1p",
    "pycharm": {
     "is_executing": false
    }
   },
   "outputs": [],
   "source": [
    "def create_categorical_data(df, column_name):\n",
    "    cat_columns = pd.Categorical(df[column_name], ordered=False)\n",
    "    return cat_columns"
   ]
  },
  {
   "cell_type": "code",
   "execution_count": 4,
   "metadata": {
    "ExecuteTime": {
     "end_time": "2020-01-13T13:40:45.603987Z",
     "start_time": "2020-01-13T13:40:45.512938Z"
    },
    "colab": {
     "base_uri": "https://localhost:8080/",
     "height": 51
    },
    "colab_type": "code",
    "id": "3YBMgKIIOn1t",
    "outputId": "8ae5102c-4387-4ea0-c4af-2907aa5432d0",
    "pycharm": {
     "is_executing": false
    }
   },
   "outputs": [
    {
     "name": "stdout",
     "output_type": "stream",
     "text": [
      "[' Divorced' ' Married-AF-spouse' ' Married-civ-spouse'\n",
      " ' Married-spouse-absent' ' Never-married' ' Separated' ' Widowed']\n"
     ]
    }
   ],
   "source": [
    "print(np.sort(adult[\"mariStat\"].unique()))"
   ]
  },
  {
   "cell_type": "code",
   "execution_count": 5,
   "metadata": {
    "ExecuteTime": {
     "end_time": "2020-01-13T13:40:45.673085Z",
     "start_time": "2020-01-13T13:40:45.605626Z"
    },
    "colab": {},
    "colab_type": "code",
    "id": "-f0qy5zCOn1z",
    "pycharm": {
     "is_executing": false
    }
   },
   "outputs": [],
   "source": [
    "# mariStat\n",
    "cat_name_dic = {\" Never-married\": \"Never-Married\", \" Married-AF-spouse\": \"Married\",\n",
    "                \" Married-civ-spouse\": \"Married\", \" Married-spouse-absent\": \"Not-Married\",\n",
    "                \" Separated\": \"Not-Married\", \" Divorced\": \"Not-Married\", \" Widowed\": \"Widowed\"}\n",
    "adult['mariStat'] = adult.mariStat.map(cat_name_dic)"
   ]
  },
  {
   "cell_type": "code",
   "execution_count": 6,
   "metadata": {
    "ExecuteTime": {
     "end_time": "2020-01-13T13:40:45.744363Z",
     "start_time": "2020-01-13T13:40:45.674710Z"
    },
    "colab": {
     "base_uri": "https://localhost:8080/",
     "height": 34
    },
    "colab_type": "code",
    "id": "dxR3XcGtOn12",
    "outputId": "049db60d-9000-485e-8c4b-7a4b646fbfac",
    "pycharm": {
     "is_executing": false
    }
   },
   "outputs": [
    {
     "name": "stdout",
     "output_type": "stream",
     "text": [
      "['Married' 'Never-Married' 'Not-Married' 'Widowed']\n"
     ]
    }
   ],
   "source": [
    "print(np.sort(adult[\"mariStat\"].unique()))"
   ]
  },
  {
   "cell_type": "code",
   "execution_count": 7,
   "metadata": {
    "ExecuteTime": {
     "end_time": "2020-01-13T13:40:45.802820Z",
     "start_time": "2020-01-13T13:40:45.745898Z"
    },
    "colab": {
     "base_uri": "https://localhost:8080/",
     "height": 153
    },
    "colab_type": "code",
    "id": "r2TPXvvyOn16",
    "outputId": "38e167d7-6e90-4015-b5e7-ac95f6febc4b",
    "pycharm": {
     "is_executing": false
    }
   },
   "outputs": [
    {
     "name": "stdout",
     "output_type": "stream",
     "text": [
      "[' ?' ' Cambodia' ' Canada' ' China' ' Columbia' ' Cuba'\n",
      " ' Dominican-Republic' ' Ecuador' ' El-Salvador' ' England' ' France'\n",
      " ' Germany' ' Greece' ' Guatemala' ' Haiti' ' Holand-Netherlands'\n",
      " ' Honduras' ' Hong' ' Hungary' ' India' ' Iran' ' Ireland' ' Italy'\n",
      " ' Jamaica' ' Japan' ' Laos' ' Mexico' ' Nicaragua'\n",
      " ' Outlying-US(Guam-USVI-etc)' ' Peru' ' Philippines' ' Poland'\n",
      " ' Portugal' ' Puerto-Rico' ' Scotland' ' South' ' Taiwan' ' Thailand'\n",
      " ' Trinadad&Tobago' ' United-States' ' Vietnam' ' Yugoslavia']\n"
     ]
    }
   ],
   "source": [
    "print(np.sort(adult[\"nativCountry\"].unique()))"
   ]
  },
  {
   "cell_type": "code",
   "execution_count": 8,
   "metadata": {
    "ExecuteTime": {
     "end_time": "2020-01-13T13:40:45.873520Z",
     "start_time": "2020-01-13T13:40:45.804572Z"
    },
    "colab": {},
    "colab_type": "code",
    "id": "NkJJgWosOn1_",
    "pycharm": {
     "is_executing": false
    }
   },
   "outputs": [],
   "source": [
    "# nativCountry\n",
    "cat_country = {\" Cambodia\": \"SE-Asia\", \" Canada\": \"British-Commonwealth\", \" China\": \"China\", \" Columbia\": \"South-America\",\n",
    "               \" Cuba\": \"Other\", \" Dominican-Republic\": \"Latin-America\", \" Ecuador\": \"South-America\",\n",
    "               \" El-Salvador\": \"South-America\", \" England\": \"British-Commonwealth\", \" France\": \"Euro_1\",\n",
    "               \" Germany\": \"Euro_1\", \" Greece\": \"Euro_2\", \" Guatemala\": \"Latin-America\", \" Haiti\": \"Latin-America\",\n",
    "               \" Holand-Netherlands\": \"Euro_1\", \" Honduras\": \"Latin-America\", \" Hong\": \"China\", \" Hungary\": \"Euro_2\",\n",
    "               \" India\": \"British-Commonwealth\", \" Iran\": \"Other\", \" Ireland\": \"British-Commonwealth\", \" Italy\": \"Euro_1\",\n",
    "               \" Jamaica\": \"Latin-America\", \" Japan\": \"Other\", \" Laos\": \"SE-Asia\", \" Mexico\": \"Latin-America\",\n",
    "               \" Nicaragua\": \"Latin-America\", \" Outlying-US(Guam-USVI-etc)\": \"Latin-America\", \" Peru\": \"South-America\",\n",
    "               \" Philippines\": \"SE-Asia\", \" Poland\": \"Euro_2\", \" Portugal\": \"Euro_2\", \" Puerto-Rico\": \"Latin-America\",\n",
    "               \" Scotland\": \"British-Commonwealth\", \" South\": \"Euro_2\", \" Taiwan\": \"China\", \" Thailand\": \"SE-Asia\",\n",
    "               \" Trinadad&Tobago\": \"Latin-America\", \" Vietnam\": \"SE-Asia\", \" United-States\": \"United-States\",\n",
    "               \" Yugoslavia\": \"Euro_2\"}\n",
    "adult[\"nativCountry\"] = adult.nativCountry.map(cat_country)"
   ]
  },
  {
   "cell_type": "code",
   "execution_count": 9,
   "metadata": {
    "ExecuteTime": {
     "end_time": "2020-01-13T13:40:45.956543Z",
     "start_time": "2020-01-13T13:40:45.875930Z"
    },
    "colab": {
     "base_uri": "https://localhost:8080/",
     "height": 51
    },
    "colab_type": "code",
    "id": "BOLmAhNUOn2D",
    "outputId": "cb049212-bc6b-485f-85e1-76633344b2cf",
    "pycharm": {
     "is_executing": false
    }
   },
   "outputs": [
    {
     "name": "stdout",
     "output_type": "stream",
     "text": [
      "['United-States' 'Other' 'Latin-America' 'British-Commonwealth' nan\n",
      " 'Euro_2' 'Euro_1' 'SE-Asia' 'South-America' 'China']\n"
     ]
    }
   ],
   "source": [
    "print((adult[\"nativCountry\"].unique()))"
   ]
  },
  {
   "cell_type": "code",
   "execution_count": 10,
   "metadata": {
    "ExecuteTime": {
     "end_time": "2020-01-13T13:40:46.019594Z",
     "start_time": "2020-01-13T13:40:45.958158Z"
    },
    "colab": {
     "base_uri": "https://localhost:8080/",
     "height": 68
    },
    "colab_type": "code",
    "id": "dLsjTUpVOn2G",
    "outputId": "c5003cd6-8965-4c60-c992-ff19f8ac2cbc",
    "pycharm": {
     "is_executing": false
    }
   },
   "outputs": [
    {
     "name": "stdout",
     "output_type": "stream",
     "text": [
      "[' 10th' ' 11th' ' 12th' ' 1st-4th' ' 5th-6th' ' 7th-8th' ' 9th'\n",
      " ' Assoc-acdm' ' Assoc-voc' ' Bachelors' ' Doctorate' ' HS-grad'\n",
      " ' Masters' ' Preschool' ' Prof-school' ' Some-college']\n"
     ]
    }
   ],
   "source": [
    "print(np.sort(adult[\"education\"].unique()))"
   ]
  },
  {
   "cell_type": "code",
   "execution_count": 11,
   "metadata": {
    "ExecuteTime": {
     "end_time": "2020-01-13T13:40:46.081309Z",
     "start_time": "2020-01-13T13:40:46.024233Z"
    },
    "colab": {},
    "colab_type": "code",
    "id": "yKIkWCmwOn2L",
    "pycharm": {
     "is_executing": false
    }
   },
   "outputs": [],
   "source": [
    "# education\n",
    "cat_educ = {\" 10th\": \"Dropout\", \" 11th\": \"Dropout\", \" 12th\": \"Dropout\", \" 1st-4th\": \"Dropout\", \" 5th-6th\": \"Dropout\",\n",
    "            \" 7th-8th\": \"Dropout\", \" 9th\": \"Dropout\", \" Assoc-acdm\": \"Associates\", \" Assoc-voc\": \"Associates\",\n",
    "            \" Bachelors\": \"Bachelors\", \" Doctorate\": \"Doctorate\", \" HS-grad\": \"HS-grad\", \" Masters\": \"Masters\",\n",
    "            \" Preschool\": \"Dropout\", \" Prof-school\": \"Prof-School\", \" Some-college\": \"HS-Graduate\"}\n",
    "adult[\"education\"] = adult.education.map(cat_educ)"
   ]
  },
  {
   "cell_type": "code",
   "execution_count": 12,
   "metadata": {
    "ExecuteTime": {
     "end_time": "2020-01-13T13:40:46.136280Z",
     "start_time": "2020-01-13T13:40:46.082764Z"
    },
    "colab": {
     "base_uri": "https://localhost:8080/",
     "height": 51
    },
    "colab_type": "code",
    "id": "jssStVAzOn2O",
    "outputId": "67590c0d-392a-4a8b-dc5b-a4a59bb32a57",
    "pycharm": {
     "is_executing": false
    }
   },
   "outputs": [
    {
     "name": "stdout",
     "output_type": "stream",
     "text": [
      "['Associates' 'Bachelors' 'Doctorate' 'Dropout' 'HS-Graduate' 'HS-grad'\n",
      " 'Masters' 'Prof-School']\n"
     ]
    }
   ],
   "source": [
    "print(np.sort(adult[\"education\"].unique()))"
   ]
  },
  {
   "cell_type": "code",
   "execution_count": 13,
   "metadata": {
    "ExecuteTime": {
     "end_time": "2020-01-13T13:40:46.194338Z",
     "start_time": "2020-01-13T13:40:46.137588Z"
    },
    "colab": {
     "base_uri": "https://localhost:8080/",
     "height": 51
    },
    "colab_type": "code",
    "id": "h-22_fe3On2R",
    "outputId": "35117b98-d938-4ce8-9cf1-de74fc7d8053",
    "pycharm": {
     "is_executing": false
    }
   },
   "outputs": [
    {
     "name": "stdout",
     "output_type": "stream",
     "text": [
      "[' ?' ' Federal-gov' ' Local-gov' ' Never-worked' ' Private'\n",
      " ' Self-emp-inc' ' Self-emp-not-inc' ' State-gov' ' Without-pay']\n"
     ]
    }
   ],
   "source": [
    "print(np.sort(adult[\"workClass\"].unique()))"
   ]
  },
  {
   "cell_type": "code",
   "execution_count": 14,
   "metadata": {
    "ExecuteTime": {
     "end_time": "2020-01-13T13:40:46.271128Z",
     "start_time": "2020-01-13T13:40:46.196003Z"
    },
    "colab": {},
    "colab_type": "code",
    "id": "Iom90FnmOn2U",
    "pycharm": {
     "is_executing": false
    }
   },
   "outputs": [],
   "source": [
    "# workClass\n",
    "cat_work = {\" Federal-gov\": \"Federal-Govt\", \" Local-gov\": \"Other-Govt\", \" State-gov\": \"Other-Govt\", \" Private\": \"Private\",\n",
    "            \" Self-emp-inc\": \"Self-Employed\", \" Self-emp-not-inc\": \"Self-Employed\", \" Without-pay\": \"Not-Working\",\n",
    "            \" Never-worked\": \"Not-Working\"}\n",
    "adult[\"workClass\"] = adult.workClass.map(cat_work)"
   ]
  },
  {
   "cell_type": "code",
   "execution_count": 15,
   "metadata": {
    "ExecuteTime": {
     "end_time": "2020-01-13T13:40:46.336483Z",
     "start_time": "2020-01-13T13:40:46.272518Z"
    },
    "colab": {
     "base_uri": "https://localhost:8080/",
     "height": 34
    },
    "colab_type": "code",
    "id": "pjqSo5r-On2X",
    "outputId": "42dfcac7-90b3-4b0d-af45-3fa413116106",
    "pycharm": {
     "is_executing": false
    }
   },
   "outputs": [
    {
     "name": "stdout",
     "output_type": "stream",
     "text": [
      "['Other-Govt' 'Self-Employed' 'Private' 'Federal-Govt' nan 'Not-Working']\n"
     ]
    }
   ],
   "source": [
    "print((adult[\"workClass\"].unique()))"
   ]
  },
  {
   "cell_type": "code",
   "execution_count": 16,
   "metadata": {
    "ExecuteTime": {
     "end_time": "2020-01-13T13:40:46.403294Z",
     "start_time": "2020-01-13T13:40:46.338170Z"
    },
    "colab": {
     "base_uri": "https://localhost:8080/",
     "height": 85
    },
    "colab_type": "code",
    "id": "dMVu5bdnOn2a",
    "outputId": "02fdccdc-9457-497d-ab7f-a485ee554934",
    "pycharm": {
     "is_executing": false
    }
   },
   "outputs": [
    {
     "name": "stdout",
     "output_type": "stream",
     "text": [
      "[' ?' ' Adm-clerical' ' Armed-Forces' ' Craft-repair' ' Exec-managerial'\n",
      " ' Farming-fishing' ' Handlers-cleaners' ' Machine-op-inspct'\n",
      " ' Other-service' ' Priv-house-serv' ' Prof-specialty' ' Protective-serv'\n",
      " ' Sales' ' Tech-support' ' Transport-moving']\n"
     ]
    }
   ],
   "source": [
    "print(np.sort(adult[\"occup\"].unique()))"
   ]
  },
  {
   "cell_type": "code",
   "execution_count": 17,
   "metadata": {
    "ExecuteTime": {
     "end_time": "2020-01-13T13:40:46.473533Z",
     "start_time": "2020-01-13T13:40:46.404946Z"
    },
    "colab": {},
    "colab_type": "code",
    "id": "9DA61p5OOn2e",
    "pycharm": {
     "is_executing": false
    }
   },
   "outputs": [],
   "source": [
    "# occup\n",
    "cat_occup = {\" Adm-clerical\": \"Admin\", \" Craft-repair\": \"Blue-Collar\", \" Exec-managerial\": \"White-Collar\",\n",
    "             \" Farming-fishing\": \"Blue-Collar\", \" Handlers-cleaners\": \"Blue-Collar\", \" Machine-op-inspct\": \"Blue-Collar\",\n",
    "             \" Other-service\": \"Service\", \" Priv-house-serv\": \"Service\", \" Prof-specialty\": \"Professional\",\n",
    "             \" Protective-serv\": \"Other-occups\", \" Sales\": \"Sales\", \" Tech-support\": \"Other-occups\",\n",
    "             \" Transport-moving\": \"Blue-Collar\"}\n",
    "adult[\"occup\"] = adult.occup.map(cat_occup)"
   ]
  },
  {
   "cell_type": "code",
   "execution_count": 18,
   "metadata": {
    "ExecuteTime": {
     "end_time": "2020-01-13T13:40:46.544083Z",
     "start_time": "2020-01-13T13:40:46.474827Z"
    },
    "colab": {
     "base_uri": "https://localhost:8080/",
     "height": 51
    },
    "colab_type": "code",
    "id": "Xoyd9sCKOn2h",
    "outputId": "668c4a0c-98b8-43e7-fd98-bb97eb26b785",
    "pycharm": {
     "is_executing": false
    }
   },
   "outputs": [
    {
     "name": "stdout",
     "output_type": "stream",
     "text": [
      "['Admin' 'White-Collar' 'Blue-Collar' 'Professional' 'Service' 'Sales'\n",
      " 'Other-occups' nan]\n"
     ]
    }
   ],
   "source": [
    "print(adult[\"occup\"].unique())"
   ]
  },
  {
   "cell_type": "code",
   "execution_count": 19,
   "metadata": {
    "ExecuteTime": {
     "end_time": "2020-01-13T13:40:46.660839Z",
     "start_time": "2020-01-13T13:40:46.545554Z"
    },
    "colab": {
     "base_uri": "https://localhost:8080/",
     "height": 34
    },
    "colab_type": "code",
    "id": "cPi35X0kOn2l",
    "outputId": "b8ac9326-ad1e-4596-c5ca-3cb46c25e829",
    "pycharm": {
     "is_executing": false
    }
   },
   "outputs": [
    {
     "name": "stdout",
     "output_type": "stream",
     "text": [
      "[' Amer-Indian-Eskimo' ' Asian-Pac-Islander' ' Black' ' Other' ' White']\n"
     ]
    }
   ],
   "source": [
    "print(np.sort(adult[\"origEthn\"].unique()))"
   ]
  },
  {
   "cell_type": "code",
   "execution_count": 20,
   "metadata": {
    "ExecuteTime": {
     "end_time": "2020-01-13T13:40:46.731577Z",
     "start_time": "2020-01-13T13:40:46.662170Z"
    },
    "colab": {},
    "colab_type": "code",
    "id": "i8FGv8DpOn2n",
    "pycharm": {
     "is_executing": false
    }
   },
   "outputs": [],
   "source": [
    "# origEthn\n",
    "cat_orig = {\" White\": \"CaucYes\", \" Black\": \"CaucNo\", \" Amer-Indian-Eskimo\": \"CaucNo\", \" Asian-Pac-Islander\": \"CaucNo\",\n",
    "            \" Other\": \"CaucNo\"}\n",
    "adult[\"origEthn\"] = adult.origEthn.map(cat_orig)"
   ]
  },
  {
   "cell_type": "code",
   "execution_count": 21,
   "metadata": {
    "ExecuteTime": {
     "end_time": "2020-01-13T13:40:46.802483Z",
     "start_time": "2020-01-13T13:40:46.733034Z"
    },
    "colab": {
     "base_uri": "https://localhost:8080/",
     "height": 34
    },
    "colab_type": "code",
    "id": "aEjAedESOn2q",
    "outputId": "2fe2937a-d176-4ce0-bc8c-233abd4845ef",
    "pycharm": {
     "is_executing": false
    }
   },
   "outputs": [
    {
     "name": "stdout",
     "output_type": "stream",
     "text": [
      "['CaucNo' 'CaucYes']\n"
     ]
    }
   ],
   "source": [
    "print(np.sort(adult[\"origEthn\"].unique()))"
   ]
  },
  {
   "cell_type": "code",
   "execution_count": 22,
   "metadata": {
    "ExecuteTime": {
     "end_time": "2020-01-13T13:40:57.314474Z",
     "start_time": "2020-01-13T13:40:46.806658Z"
    },
    "colab": {},
    "colab_type": "code",
    "id": "duFTVAuFOn2u",
    "pycharm": {
     "is_executing": false
    }
   },
   "outputs": [],
   "source": [
    "adult[\"LcapitalGain\"] = np.log(1 + adult[\"capitalGain\"])\n",
    "adult[\"LcapitalLoss\"] = np.log(1 + adult[\"capitalLoss\"])\n",
    "\n",
    "# capital\n",
    "def quantileCapitalGain(capital):\n",
    "    if type(capital) != int:\n",
    "        result = np.nan\n",
    "    elif capital <= 0:\n",
    "        result = \"None\"\n",
    "    elif capital <= np.median(adult[adult[\"capitalGain\"] > 0][\"capitalGain\"]):\n",
    "        result = \"cgLow\"\n",
    "    else:\n",
    "        result = \"cgHigh\"\n",
    "    return result\n",
    "\n",
    "\n",
    "adult[\"capitalGain\"] = list(map(quantileCapitalGain, adult.capitalGain))\n",
    "\n",
    "def quantileCapitalLoss(capital):\n",
    "    if type(capital) != int:\n",
    "        result = np.nan\n",
    "    elif capital <= 0:\n",
    "        result = \"None\"\n",
    "    elif capital <= np.median(adult[adult[\"capitalLoss\"] > 0][\"capitalLoss\"]):\n",
    "        result = \"clLow\"\n",
    "    else:\n",
    "        result = \"clHigh\"\n",
    "    return result\n",
    "\n",
    "\n",
    "adult[\"capitalLoss\"] = list(map(quantileCapitalLoss, adult.capitalLoss))"
   ]
  },
  {
   "cell_type": "code",
   "execution_count": 23,
   "metadata": {
    "ExecuteTime": {
     "end_time": "2020-01-13T13:40:57.326749Z",
     "start_time": "2020-01-13T13:40:57.316653Z"
    },
    "colab": {},
    "colab_type": "code",
    "id": "840l__1uOn2x",
    "pycharm": {
     "is_executing": false
    }
   },
   "outputs": [],
   "source": [
    "adult[\"ageQ\"] = pd.qcut(adult.age, 5, labels=[\"Ag1\", \"Ag2\", \"Ag3\", \"Ag4\", \"Ag5\"])"
   ]
  },
  {
   "cell_type": "code",
   "execution_count": 24,
   "metadata": {
    "ExecuteTime": {
     "end_time": "2020-01-13T13:40:57.423915Z",
     "start_time": "2020-01-13T13:40:57.329955Z"
    },
    "colab": {},
    "colab_type": "code",
    "id": "yJRedaJ4On2z",
    "pycharm": {
     "is_executing": false
    }
   },
   "outputs": [],
   "source": [
    "adult[\"hoursWeekQ\"] = pd.cut(adult.hoursWeek, bins=np.array([0, 39, 41, 100]), labels=[\"HW1\", \"HW2\", \"HW3\"])"
   ]
  },
  {
   "cell_type": "code",
   "execution_count": 25,
   "metadata": {
    "ExecuteTime": {
     "end_time": "2020-01-13T13:40:57.500654Z",
     "start_time": "2020-01-13T13:40:57.427030Z"
    },
    "colab": {},
    "colab_type": "code",
    "id": "KTpfg-ahOn21",
    "pycharm": {
     "is_executing": false
    }
   },
   "outputs": [],
   "source": [
    "def create_categorical_data_rename(df, column_name, cat_name_dic):\n",
    "    cat_columns = pd.Categorical(df[column_name], ordered=False)\n",
    "    new_categorie = [cat_name_dic[old_name] for old_name in cat_columns.categories]\n",
    "    return cat_columns.rename_categories(new_categorie)"
   ]
  },
  {
   "cell_type": "code",
   "execution_count": 26,
   "metadata": {
    "ExecuteTime": {
     "end_time": "2020-01-13T13:40:57.560499Z",
     "start_time": "2020-01-13T13:40:57.502039Z"
    },
    "colab": {
     "base_uri": "https://localhost:8080/",
     "height": 34
    },
    "colab_type": "code",
    "id": "PcrnRXAzOn24",
    "outputId": "7add1db7-2767-45fc-ef94-4981665599ea",
    "pycharm": {
     "is_executing": false
    }
   },
   "outputs": [
    {
     "name": "stdout",
     "output_type": "stream",
     "text": [
      "[' <=50K' ' >50K']\n"
     ]
    }
   ],
   "source": [
    "print(np.sort(adult[\"income\"].unique()))"
   ]
  },
  {
   "cell_type": "code",
   "execution_count": 27,
   "metadata": {
    "ExecuteTime": {
     "end_time": "2020-01-13T13:40:57.622056Z",
     "start_time": "2020-01-13T13:40:57.565993Z"
    },
    "colab": {},
    "colab_type": "code",
    "id": "61H7jwrqOn26",
    "pycharm": {
     "is_executing": false
    }
   },
   "outputs": [],
   "source": [
    "adult[\"income\"] = create_categorical_data_rename(adult, \"income\", {\" <=50K\": \"incLow\", \" >50K\": \"incHigh\"})"
   ]
  },
  {
   "cell_type": "code",
   "execution_count": 28,
   "metadata": {
    "ExecuteTime": {
     "end_time": "2020-01-13T13:40:57.733273Z",
     "start_time": "2020-01-13T13:40:57.623479Z"
    },
    "colab": {},
    "colab_type": "code",
    "id": "T4Wy9KDGOn29",
    "pycharm": {
     "is_executing": false
    }
   },
   "outputs": [],
   "source": [
    "for name in [\"workClass\", \"education\", \"mariStat\", \"occup\", \"relationship\", \"origEthn\", \"sex\", \"capitalGain\", \n",
    "             \"capitalLoss\", \"nativCountry\"]:\n",
    "    adult[name] = create_categorical_data(adult, name)"
   ]
  },
  {
   "cell_type": "code",
   "execution_count": 29,
   "metadata": {
    "ExecuteTime": {
     "end_time": "2020-01-13T13:40:57.763362Z",
     "start_time": "2020-01-13T13:40:57.734769Z"
    },
    "colab": {
     "base_uri": "https://localhost:8080/",
     "height": 275
    },
    "colab_type": "code",
    "id": "1iV9nxQ0On3A",
    "outputId": "c426e1fa-6aa0-47e3-918c-54c9b4ed74e3",
    "pycharm": {
     "is_executing": false
    }
   },
   "outputs": [
    {
     "data": {
      "text/html": [
       "<div>\n",
       "<style scoped>\n",
       "    .dataframe tbody tr th:only-of-type {\n",
       "        vertical-align: middle;\n",
       "    }\n",
       "\n",
       "    .dataframe tbody tr th {\n",
       "        vertical-align: top;\n",
       "    }\n",
       "\n",
       "    .dataframe thead th {\n",
       "        text-align: right;\n",
       "    }\n",
       "</style>\n",
       "<table border=\"1\" class=\"dataframe\">\n",
       "  <thead>\n",
       "    <tr style=\"text-align: right;\">\n",
       "      <th></th>\n",
       "      <th>age</th>\n",
       "      <th>workClass</th>\n",
       "      <th>fnlwgt</th>\n",
       "      <th>education</th>\n",
       "      <th>educNum</th>\n",
       "      <th>mariStat</th>\n",
       "      <th>occup</th>\n",
       "      <th>relationship</th>\n",
       "      <th>origEthn</th>\n",
       "      <th>sex</th>\n",
       "      <th>capitalGain</th>\n",
       "      <th>capitalLoss</th>\n",
       "      <th>hoursWeek</th>\n",
       "      <th>nativCountry</th>\n",
       "      <th>income</th>\n",
       "      <th>LcapitalGain</th>\n",
       "      <th>LcapitalLoss</th>\n",
       "      <th>ageQ</th>\n",
       "      <th>hoursWeekQ</th>\n",
       "    </tr>\n",
       "  </thead>\n",
       "  <tbody>\n",
       "    <tr>\n",
       "      <th>0</th>\n",
       "      <td>39</td>\n",
       "      <td>Other-Govt</td>\n",
       "      <td>77516</td>\n",
       "      <td>Bachelors</td>\n",
       "      <td>13</td>\n",
       "      <td>Never-Married</td>\n",
       "      <td>Admin</td>\n",
       "      <td>Not-in-family</td>\n",
       "      <td>CaucYes</td>\n",
       "      <td>Male</td>\n",
       "      <td>cgLow</td>\n",
       "      <td>None</td>\n",
       "      <td>40</td>\n",
       "      <td>United-States</td>\n",
       "      <td>incLow</td>\n",
       "      <td>7.684784</td>\n",
       "      <td>0.0</td>\n",
       "      <td>Ag3</td>\n",
       "      <td>HW2</td>\n",
       "    </tr>\n",
       "    <tr>\n",
       "      <th>1</th>\n",
       "      <td>50</td>\n",
       "      <td>Self-Employed</td>\n",
       "      <td>83311</td>\n",
       "      <td>Bachelors</td>\n",
       "      <td>13</td>\n",
       "      <td>Married</td>\n",
       "      <td>White-Collar</td>\n",
       "      <td>Husband</td>\n",
       "      <td>CaucYes</td>\n",
       "      <td>Male</td>\n",
       "      <td>None</td>\n",
       "      <td>None</td>\n",
       "      <td>13</td>\n",
       "      <td>United-States</td>\n",
       "      <td>incLow</td>\n",
       "      <td>0.000000</td>\n",
       "      <td>0.0</td>\n",
       "      <td>Ag4</td>\n",
       "      <td>HW1</td>\n",
       "    </tr>\n",
       "    <tr>\n",
       "      <th>2</th>\n",
       "      <td>38</td>\n",
       "      <td>Private</td>\n",
       "      <td>215646</td>\n",
       "      <td>HS-grad</td>\n",
       "      <td>9</td>\n",
       "      <td>Not-Married</td>\n",
       "      <td>Blue-Collar</td>\n",
       "      <td>Not-in-family</td>\n",
       "      <td>CaucYes</td>\n",
       "      <td>Male</td>\n",
       "      <td>None</td>\n",
       "      <td>None</td>\n",
       "      <td>40</td>\n",
       "      <td>United-States</td>\n",
       "      <td>incLow</td>\n",
       "      <td>0.000000</td>\n",
       "      <td>0.0</td>\n",
       "      <td>Ag3</td>\n",
       "      <td>HW2</td>\n",
       "    </tr>\n",
       "    <tr>\n",
       "      <th>3</th>\n",
       "      <td>53</td>\n",
       "      <td>Private</td>\n",
       "      <td>234721</td>\n",
       "      <td>Dropout</td>\n",
       "      <td>7</td>\n",
       "      <td>Married</td>\n",
       "      <td>Blue-Collar</td>\n",
       "      <td>Husband</td>\n",
       "      <td>CaucNo</td>\n",
       "      <td>Male</td>\n",
       "      <td>None</td>\n",
       "      <td>None</td>\n",
       "      <td>40</td>\n",
       "      <td>United-States</td>\n",
       "      <td>incLow</td>\n",
       "      <td>0.000000</td>\n",
       "      <td>0.0</td>\n",
       "      <td>Ag5</td>\n",
       "      <td>HW2</td>\n",
       "    </tr>\n",
       "    <tr>\n",
       "      <th>4</th>\n",
       "      <td>28</td>\n",
       "      <td>Private</td>\n",
       "      <td>338409</td>\n",
       "      <td>Bachelors</td>\n",
       "      <td>13</td>\n",
       "      <td>Married</td>\n",
       "      <td>Professional</td>\n",
       "      <td>Wife</td>\n",
       "      <td>CaucNo</td>\n",
       "      <td>Female</td>\n",
       "      <td>None</td>\n",
       "      <td>None</td>\n",
       "      <td>40</td>\n",
       "      <td>Other</td>\n",
       "      <td>incLow</td>\n",
       "      <td>0.000000</td>\n",
       "      <td>0.0</td>\n",
       "      <td>Ag2</td>\n",
       "      <td>HW2</td>\n",
       "    </tr>\n",
       "  </tbody>\n",
       "</table>\n",
       "</div>"
      ],
      "text/plain": [
       "   age      workClass  fnlwgt  education  educNum       mariStat  \\\n",
       "0   39     Other-Govt   77516  Bachelors       13  Never-Married   \n",
       "1   50  Self-Employed   83311  Bachelors       13        Married   \n",
       "2   38        Private  215646    HS-grad        9    Not-Married   \n",
       "3   53        Private  234721    Dropout        7        Married   \n",
       "4   28        Private  338409  Bachelors       13        Married   \n",
       "\n",
       "          occup    relationship origEthn      sex capitalGain capitalLoss  \\\n",
       "0         Admin   Not-in-family  CaucYes     Male       cgLow        None   \n",
       "1  White-Collar         Husband  CaucYes     Male        None        None   \n",
       "2   Blue-Collar   Not-in-family  CaucYes     Male        None        None   \n",
       "3   Blue-Collar         Husband   CaucNo     Male        None        None   \n",
       "4  Professional            Wife   CaucNo   Female        None        None   \n",
       "\n",
       "   hoursWeek   nativCountry  income  LcapitalGain  LcapitalLoss ageQ  \\\n",
       "0         40  United-States  incLow      7.684784           0.0  Ag3   \n",
       "1         13  United-States  incLow      0.000000           0.0  Ag4   \n",
       "2         40  United-States  incLow      0.000000           0.0  Ag3   \n",
       "3         40  United-States  incLow      0.000000           0.0  Ag5   \n",
       "4         40          Other  incLow      0.000000           0.0  Ag2   \n",
       "\n",
       "  hoursWeekQ  \n",
       "0        HW2  \n",
       "1        HW1  \n",
       "2        HW2  \n",
       "3        HW2  \n",
       "4        HW2  "
      ]
     },
     "execution_count": 29,
     "metadata": {},
     "output_type": "execute_result"
    }
   ],
   "source": [
    "adult = adult[np.logical_not(adult.isnull().any(axis=1))]\n",
    "adult.head()"
   ]
  },
  {
   "cell_type": "code",
   "execution_count": 30,
   "metadata": {
    "ExecuteTime": {
     "end_time": "2020-01-13T13:40:57.814206Z",
     "start_time": "2020-01-13T13:40:57.765503Z"
    },
    "colab": {},
    "colab_type": "code",
    "id": "rMPJ2At9On3D",
    "pycharm": {
     "is_executing": false
    }
   },
   "outputs": [],
   "source": [
    "adult = adult[(adult[\"sex\"] != \"Female\") | (adult[\"relationship\"] != \"Husband\")]\n",
    "adult = adult[(adult[\"sex\"] != \"Male\") | (adult[\"relationship\"] != \"Wife\")]"
   ]
  },
  {
   "cell_type": "markdown",
   "metadata": {
    "colab_type": "text",
    "id": "cST_nFTSOn3E"
   },
   "source": [
    "### 1.3 Description élémentaire"
   ]
  },
  {
   "cell_type": "code",
   "execution_count": 31,
   "metadata": {
    "ExecuteTime": {
     "end_time": "2020-01-13T13:40:57.896269Z",
     "start_time": "2020-01-13T13:40:57.817373Z"
    },
    "colab": {
     "base_uri": "https://localhost:8080/",
     "height": 297
    },
    "colab_type": "code",
    "id": "EKRDmElHOn3E",
    "outputId": "5c4ce79b-6c84-4a17-9a28-cdcebce452d9",
    "pycharm": {
     "is_executing": false
    }
   },
   "outputs": [
    {
     "data": {
      "text/html": [
       "<div>\n",
       "<style scoped>\n",
       "    .dataframe tbody tr th:only-of-type {\n",
       "        vertical-align: middle;\n",
       "    }\n",
       "\n",
       "    .dataframe tbody tr th {\n",
       "        vertical-align: top;\n",
       "    }\n",
       "\n",
       "    .dataframe thead th {\n",
       "        text-align: right;\n",
       "    }\n",
       "</style>\n",
       "<table border=\"1\" class=\"dataframe\">\n",
       "  <thead>\n",
       "    <tr style=\"text-align: right;\">\n",
       "      <th></th>\n",
       "      <th>age</th>\n",
       "      <th>fnlwgt</th>\n",
       "      <th>educNum</th>\n",
       "      <th>hoursWeek</th>\n",
       "      <th>LcapitalGain</th>\n",
       "      <th>LcapitalLoss</th>\n",
       "    </tr>\n",
       "  </thead>\n",
       "  <tbody>\n",
       "    <tr>\n",
       "      <th>count</th>\n",
       "      <td>45208.000000</td>\n",
       "      <td>4.520800e+04</td>\n",
       "      <td>45208.000000</td>\n",
       "      <td>45208.000000</td>\n",
       "      <td>45208.000000</td>\n",
       "      <td>45208.000000</td>\n",
       "    </tr>\n",
       "    <tr>\n",
       "      <th>mean</th>\n",
       "      <td>38.550035</td>\n",
       "      <td>1.897257e+05</td>\n",
       "      <td>10.118298</td>\n",
       "      <td>40.937776</td>\n",
       "      <td>0.740792</td>\n",
       "      <td>0.355432</td>\n",
       "    </tr>\n",
       "    <tr>\n",
       "      <th>std</th>\n",
       "      <td>13.218340</td>\n",
       "      <td>1.056474e+05</td>\n",
       "      <td>2.552960</td>\n",
       "      <td>12.007784</td>\n",
       "      <td>2.466579</td>\n",
       "      <td>1.595791</td>\n",
       "    </tr>\n",
       "    <tr>\n",
       "      <th>min</th>\n",
       "      <td>17.000000</td>\n",
       "      <td>1.349200e+04</td>\n",
       "      <td>1.000000</td>\n",
       "      <td>1.000000</td>\n",
       "      <td>0.000000</td>\n",
       "      <td>0.000000</td>\n",
       "    </tr>\n",
       "    <tr>\n",
       "      <th>25%</th>\n",
       "      <td>28.000000</td>\n",
       "      <td>1.173810e+05</td>\n",
       "      <td>9.000000</td>\n",
       "      <td>40.000000</td>\n",
       "      <td>0.000000</td>\n",
       "      <td>0.000000</td>\n",
       "    </tr>\n",
       "    <tr>\n",
       "      <th>50%</th>\n",
       "      <td>37.000000</td>\n",
       "      <td>1.783120e+05</td>\n",
       "      <td>10.000000</td>\n",
       "      <td>40.000000</td>\n",
       "      <td>0.000000</td>\n",
       "      <td>0.000000</td>\n",
       "    </tr>\n",
       "    <tr>\n",
       "      <th>75%</th>\n",
       "      <td>47.000000</td>\n",
       "      <td>2.379155e+05</td>\n",
       "      <td>13.000000</td>\n",
       "      <td>45.000000</td>\n",
       "      <td>0.000000</td>\n",
       "      <td>0.000000</td>\n",
       "    </tr>\n",
       "    <tr>\n",
       "      <th>max</th>\n",
       "      <td>90.000000</td>\n",
       "      <td>1.490400e+06</td>\n",
       "      <td>16.000000</td>\n",
       "      <td>99.000000</td>\n",
       "      <td>11.512925</td>\n",
       "      <td>8.379539</td>\n",
       "    </tr>\n",
       "  </tbody>\n",
       "</table>\n",
       "</div>"
      ],
      "text/plain": [
       "                age        fnlwgt       educNum     hoursWeek  LcapitalGain  \\\n",
       "count  45208.000000  4.520800e+04  45208.000000  45208.000000  45208.000000   \n",
       "mean      38.550035  1.897257e+05     10.118298     40.937776      0.740792   \n",
       "std       13.218340  1.056474e+05      2.552960     12.007784      2.466579   \n",
       "min       17.000000  1.349200e+04      1.000000      1.000000      0.000000   \n",
       "25%       28.000000  1.173810e+05      9.000000     40.000000      0.000000   \n",
       "50%       37.000000  1.783120e+05     10.000000     40.000000      0.000000   \n",
       "75%       47.000000  2.379155e+05     13.000000     45.000000      0.000000   \n",
       "max       90.000000  1.490400e+06     16.000000     99.000000     11.512925   \n",
       "\n",
       "       LcapitalLoss  \n",
       "count  45208.000000  \n",
       "mean       0.355432  \n",
       "std        1.595791  \n",
       "min        0.000000  \n",
       "25%        0.000000  \n",
       "50%        0.000000  \n",
       "75%        0.000000  \n",
       "max        8.379539  "
      ]
     },
     "execution_count": 31,
     "metadata": {},
     "output_type": "execute_result"
    }
   ],
   "source": [
    "adult.describe()"
   ]
  },
  {
   "cell_type": "markdown",
   "metadata": {
    "colab_type": "text",
    "id": "LpoXz-ryOn3H"
   },
   "source": [
    "**Q** Que dire de la distribution de la variable `age`, de celle `income` ?"
   ]
  },
  {
   "cell_type": "markdown",
   "metadata": {
    "colab_type": "text",
    "id": "sq7rHXrFP7M5"
   },
   "source": [
    "**R** Répartition non gaussienne de l'age. La majorité sont entre 20 et 50 ans  \n",
    "**R** De la même manière, il y a 3 fois plus de incLow que de incHigh"
   ]
  },
  {
   "cell_type": "code",
   "execution_count": 32,
   "metadata": {
    "ExecuteTime": {
     "end_time": "2020-01-13T13:40:58.127286Z",
     "start_time": "2020-01-13T13:40:57.897872Z"
    },
    "colab": {
     "base_uri": "https://localhost:8080/",
     "height": 265
    },
    "colab_type": "code",
    "id": "sSk3l5CYOn3I",
    "outputId": "ec21d9bc-69bc-402c-c7ca-af6fa0993c96",
    "pycharm": {
     "is_executing": false
    }
   },
   "outputs": [
    {
     "data": {
      "image/png": "[encoded data removed]",
      "text/plain": [
       "<Figure size 432x288 with 1 Axes>"
      ]
     },
     "metadata": {
      "needs_background": "light"
     },
     "output_type": "display_data"
    }
   ],
   "source": [
    "adult[\"age\"].hist()\n",
    "plt.show()"
   ]
  },
  {
   "cell_type": "code",
   "execution_count": 33,
   "metadata": {
    "ExecuteTime": {
     "end_time": "2020-01-13T13:40:58.294672Z",
     "start_time": "2020-01-13T13:40:58.129694Z"
    },
    "colab": {
     "base_uri": "https://localhost:8080/",
     "height": 265
    },
    "colab_type": "code",
    "id": "r3KPTvAgOn3J",
    "outputId": "8c9c94e0-f256-4247-ec34-00ab4e64e49f",
    "pycharm": {
     "is_executing": false
    }
   },
   "outputs": [
    {
     "data": {
      "image/png": "[encoded data removed]",
      "text/plain": [
       "<Figure size 432x288 with 1 Axes>"
      ]
     },
     "metadata": {
      "needs_background": "light"
     },
     "output_type": "display_data"
    }
   ],
   "source": [
    "adult[\"fnlwgt\"].hist()\n",
    "plt.show()"
   ]
  },
  {
   "cell_type": "code",
   "execution_count": 34,
   "metadata": {
    "ExecuteTime": {
     "end_time": "2020-01-13T13:40:58.304829Z",
     "start_time": "2020-01-13T13:40:58.297566Z"
    },
    "colab": {
     "base_uri": "https://localhost:8080/",
     "height": 68
    },
    "colab_type": "code",
    "id": "h0fYJrp_On3L",
    "outputId": "48290a2d-3190-48c3-afb6-cc6f0d7f7a41",
    "pycharm": {
     "is_executing": false
    }
   },
   "outputs": [
    {
     "data": {
      "text/plain": [
       "incLow     34004\n",
       "incHigh    11204\n",
       "Name: income, dtype: int64"
      ]
     },
     "execution_count": 34,
     "metadata": {},
     "output_type": "execute_result"
    }
   ],
   "source": [
    "adult[\"income\"].value_counts()"
   ]
  },
  {
   "cell_type": "code",
   "execution_count": 35,
   "metadata": {
    "ExecuteTime": {
     "end_time": "2020-01-13T13:40:58.378900Z",
     "start_time": "2020-01-13T13:40:58.306283Z"
    },
    "colab": {
     "base_uri": "https://localhost:8080/",
     "height": 136
    },
    "colab_type": "code",
    "id": "bBSoaVLCOn3N",
    "outputId": "65a03309-cbc3-4e00-cc77-442a7249ac27",
    "pycharm": {
     "is_executing": false
    }
   },
   "outputs": [
    {
     "data": {
      "text/plain": [
       " Husband           18661\n",
       " Not-in-family     11697\n",
       " Own-child          6624\n",
       " Unmarried          4788\n",
       " Wife               2091\n",
       " Other-relative     1347\n",
       "Name: relationship, dtype: int64"
      ]
     },
     "execution_count": 35,
     "metadata": {},
     "output_type": "execute_result"
    }
   ],
   "source": [
    "adult[\"relationship\"].value_counts()"
   ]
  },
  {
   "cell_type": "code",
   "execution_count": 36,
   "metadata": {
    "ExecuteTime": {
     "end_time": "2020-01-13T13:40:58.829158Z",
     "start_time": "2020-01-13T13:40:58.380698Z"
    },
    "colab": {
     "base_uri": "https://localhost:8080/",
     "height": 279
    },
    "colab_type": "code",
    "id": "lO7OPlwxOn3Q",
    "outputId": "028b3e90-43d8-42be-8568-45970613b423",
    "pycharm": {
     "is_executing": false
    }
   },
   "outputs": [
    {
     "data": {
      "image/png": "[encoded data removed]",
      "text/plain": [
       "<Figure size 432x288 with 1 Axes>"
      ]
     },
     "metadata": {
      "needs_background": "light"
     },
     "output_type": "display_data"
    }
   ],
   "source": [
    "adult.plot(kind=\"scatter\",x=\"age\",y=\"educNum\")\n",
    "plt.show()"
   ]
  },
  {
   "cell_type": "markdown",
   "metadata": {
    "colab_type": "text",
    "id": "hXmIQjtoOn3S"
   },
   "source": [
    "**Q** Que dire des liaisons : `age x hoursWeek`, `age x income`, `sex x income` ?  \n",
    "**R** Age et hoursweek ne sont pas indépendantes, on voit clairement une diminution du temps travaillé par semaines avec l'age.  \n",
    "**R** Age et income sont également liés, avec une moyenne d'age plus élevée chez les incHigh  \n",
    "**R** Age et sexe semble aussi liés (les proportions male/female dans incHigh et incLow sont différentes)"
   ]
  },
  {
   "cell_type": "code",
   "execution_count": 37,
   "metadata": {
    "ExecuteTime": {
     "end_time": "2020-01-13T13:40:59.234647Z",
     "start_time": "2020-01-13T13:40:58.831107Z"
    },
    "colab": {
     "base_uri": "https://localhost:8080/",
     "height": 279
    },
    "colab_type": "code",
    "id": "mak6GAHFOn3T",
    "outputId": "f98c59e7-8a64-48bc-b3b4-2c4c79bd2bc7",
    "pycharm": {
     "is_executing": false
    }
   },
   "outputs": [
    {
     "data": {
      "image/png": "[encoded data removed]",
      "text/plain": [
       "<Figure size 432x288 with 1 Axes>"
      ]
     },
     "metadata": {
      "needs_background": "light"
     },
     "output_type": "display_data"
    }
   ],
   "source": [
    "adult.plot(kind=\"scatter\",x=\"hoursWeek\",y=\"age\")\n",
    "plt.show()"
   ]
  },
  {
   "cell_type": "code",
   "execution_count": 38,
   "metadata": {
    "ExecuteTime": {
     "end_time": "2020-01-13T13:40:59.383462Z",
     "start_time": "2020-01-13T13:40:59.236706Z"
    },
    "colab": {
     "base_uri": "https://localhost:8080/",
     "height": 301
    },
    "colab_type": "code",
    "id": "ifKMLEzJOn3V",
    "outputId": "bcd147da-2d5a-4ad1-928e-f05499cf7555",
    "pycharm": {
     "is_executing": false
    }
   },
   "outputs": [
    {
     "data": {
      "image/png": "[encoded data removed]",
      "text/plain": [
       "<Figure size 432x288 with 1 Axes>"
      ]
     },
     "metadata": {
      "needs_background": "light"
     },
     "output_type": "display_data"
    }
   ],
   "source": [
    "adult.boxplot(column=\"age\",by=\"income\")\n",
    "plt.show()"
   ]
  },
  {
   "cell_type": "markdown",
   "metadata": {
    "colab_type": "text",
    "id": "_Y8_TBOeOn3W"
   },
   "source": [
    "**Q** La variable `fnlwgt` (Final sampling weight:  Inverse of sampling fraction adjusted for non-response and over or under sampling of particular groups) est assez obscure.  Que dire de sa liaison avec la variable cible? Elle est supprimée par la suite"
   ]
  },
  {
   "cell_type": "markdown",
   "metadata": {
    "colab_type": "text",
    "id": "xrDP06-HUNLK"
   },
   "source": [
    "**R** La liaison entre income et fnlwgt n'est pas évidente, fnlwgt ayant la même moyenne pour incLow et incHigh."
   ]
  },
  {
   "cell_type": "code",
   "execution_count": 39,
   "metadata": {
    "ExecuteTime": {
     "end_time": "2020-01-13T13:40:59.532861Z",
     "start_time": "2020-01-13T13:40:59.385156Z"
    },
    "colab": {
     "base_uri": "https://localhost:8080/",
     "height": 301
    },
    "colab_type": "code",
    "id": "8ZMx1WqtOn3X",
    "outputId": "f2636e29-47bd-4e3c-867b-617cc02d5f21",
    "pycharm": {
     "is_executing": false
    }
   },
   "outputs": [
    {
     "data": {
      "image/png": "[encoded data removed]",
      "text/plain": [
       "<Figure size 432x288 with 1 Axes>"
      ]
     },
     "metadata": {
      "needs_background": "light"
     },
     "output_type": "display_data"
    }
   ],
   "source": [
    "adult.boxplot(column=\"fnlwgt\",by=\"income\")\n",
    "plt.show()"
   ]
  },
  {
   "cell_type": "code",
   "execution_count": 40,
   "metadata": {
    "ExecuteTime": {
     "end_time": "2020-01-13T13:40:59.690340Z",
     "start_time": "2020-01-13T13:40:59.537369Z"
    },
    "colab": {
     "base_uri": "https://localhost:8080/",
     "height": 269
    },
    "colab_type": "code",
    "id": "Ga-HtDkCOn3Z",
    "outputId": "6c976fad-fa62-46fa-a386-a9291d1e6552",
    "pycharm": {
     "is_executing": false
    }
   },
   "outputs": [
    {
     "data": {
      "image/png": "[encoded data removed]",
      "text/plain": [
       "<Figure size 432x288 with 3 Axes>"
      ]
     },
     "metadata": {
      "needs_background": "light"
     },
     "output_type": "display_data"
    }
   ],
   "source": [
    "# Mosaic plots\n",
    "from statsmodels.graphics.mosaicplot import mosaic\n",
    "mosaic(adult,[\"income\",\"sex\"])\n",
    "plt.show()"
   ]
  },
  {
   "cell_type": "code",
   "execution_count": 41,
   "metadata": {
    "ExecuteTime": {
     "end_time": "2020-01-13T13:40:59.835422Z",
     "start_time": "2020-01-13T13:40:59.693089Z"
    },
    "colab": {
     "base_uri": "https://localhost:8080/",
     "height": 269
    },
    "colab_type": "code",
    "id": "EzgFkITbOn3c",
    "outputId": "5d0a6ad1-4de5-4024-d3a7-47692bbab182",
    "pycharm": {
     "is_executing": false
    }
   },
   "outputs": [
    {
     "data": {
      "image/png": "[encoded data removed]",
      "text/plain": [
       "<Figure size 432x288 with 3 Axes>"
      ]
     },
     "metadata": {
      "needs_background": "light"
     },
     "output_type": "display_data"
    }
   ],
   "source": [
    "from statsmodels.graphics.mosaicplot import mosaic\n",
    "mosaic(adult,[\"income\",\"origEthn\"])\n",
    "plt.show()"
   ]
  },
  {
   "cell_type": "markdown",
   "metadata": {
    "colab_type": "text",
    "id": "yJnegzfWOn3e"
   },
   "source": [
    "Quelques modifications comlémentaires sont apportées de la base. Certaines variables en versions quantitatives et qualitatives comme le nombre d'heures par semaine, l'âge ou le niveau d'éducation sont conservées. Des variables sont supprimées afin de ne garder qu'une seule présence d'une information sensible: genre et origine ethnique.\n",
    "- Suppression de la variable `fnlwgt` qui n'a guère de signification pour cette analyse.\n",
    "- Création d'une variable binaire `Child`: présence ou non d'enfants.\n",
    "- Suppression de la variable `relationship` redondante avec le genre et le statut marital,\n",
    "- Suppression de la variable `nativCountry` redondante avec l'origine ethnique."
   ]
  },
  {
   "cell_type": "code",
   "execution_count": 42,
   "metadata": {
    "ExecuteTime": {
     "end_time": "2020-01-13T13:40:59.843058Z",
     "start_time": "2020-01-13T13:40:59.837327Z"
    },
    "colab": {
     "base_uri": "https://localhost:8080/",
     "height": 51
    },
    "colab_type": "code",
    "id": "N00-w9zsOn3g",
    "outputId": "f42b0bc2-83b6-43e1-97ca-584d78266954",
    "pycharm": {
     "is_executing": false
    }
   },
   "outputs": [
    {
     "name": "stdout",
     "output_type": "stream",
     "text": [
      "[' Husband' ' Not-in-family' ' Other-relative' ' Own-child' ' Unmarried'\n",
      " ' Wife']\n"
     ]
    }
   ],
   "source": [
    "print(np.sort(adult[\"relationship\"].unique()))"
   ]
  },
  {
   "cell_type": "code",
   "execution_count": 43,
   "metadata": {
    "ExecuteTime": {
     "end_time": "2020-01-13T13:40:59.896266Z",
     "start_time": "2020-01-13T13:40:59.844656Z"
    },
    "colab": {},
    "colab_type": "code",
    "id": "2z2amCNrOn3i",
    "pycharm": {
     "is_executing": false
    }
   },
   "outputs": [],
   "source": [
    "cat_orig = {' Husband':\"ChildNo\",' Not-in-family':\"ChildNo\",' Other-relative':\"ChildNo\",' Own-child':\"ChildYes\",' Unmarried':\"ChildNo\",' Wife':\"ChildNo\"}\n",
    "adult[\"child\"] = adult.relationship.map(cat_orig)"
   ]
  },
  {
   "cell_type": "code",
   "execution_count": 44,
   "metadata": {
    "ExecuteTime": {
     "end_time": "2020-01-13T13:40:59.960781Z",
     "start_time": "2020-01-13T13:40:59.898776Z"
    },
    "colab": {
     "base_uri": "https://localhost:8080/",
     "height": 34
    },
    "colab_type": "code",
    "id": "QYUHUsoTVZ5T",
    "outputId": "174c2f18-5cb6-4339-d3f4-27c1de3a59fe",
    "pycharm": {
     "is_executing": false
    }
   },
   "outputs": [
    {
     "name": "stdout",
     "output_type": "stream",
     "text": [
      "['ChildNo' 'ChildYes']\n"
     ]
    }
   ],
   "source": [
    "print(adult[\"child\"].unique())"
   ]
  },
  {
   "cell_type": "code",
   "execution_count": 45,
   "metadata": {
    "ExecuteTime": {
     "end_time": "2020-01-13T13:41:00.018630Z",
     "start_time": "2020-01-13T13:40:59.962058Z"
    },
    "colab": {},
    "colab_type": "code",
    "id": "7OsqIXbnOn3k",
    "pycharm": {
     "is_executing": false
    }
   },
   "outputs": [],
   "source": [
    "adult=adult.drop([\"fnlwgt\",\"nativCountry\",\"relationship\"],axis=1)"
   ]
  },
  {
   "cell_type": "code",
   "execution_count": 46,
   "metadata": {
    "ExecuteTime": {
     "end_time": "2020-01-13T13:41:00.114666Z",
     "start_time": "2020-01-13T13:41:00.020194Z"
    },
    "colab": {
     "base_uri": "https://localhost:8080/",
     "height": 275
    },
    "colab_type": "code",
    "id": "3E_S2xeJOn3m",
    "outputId": "53d6f520-87d6-4dac-d71e-002187922381",
    "pycharm": {
     "is_executing": false
    }
   },
   "outputs": [
    {
     "data": {
      "text/html": [
       "<div>\n",
       "<style scoped>\n",
       "    .dataframe tbody tr th:only-of-type {\n",
       "        vertical-align: middle;\n",
       "    }\n",
       "\n",
       "    .dataframe tbody tr th {\n",
       "        vertical-align: top;\n",
       "    }\n",
       "\n",
       "    .dataframe thead th {\n",
       "        text-align: right;\n",
       "    }\n",
       "</style>\n",
       "<table border=\"1\" class=\"dataframe\">\n",
       "  <thead>\n",
       "    <tr style=\"text-align: right;\">\n",
       "      <th></th>\n",
       "      <th>age</th>\n",
       "      <th>workClass</th>\n",
       "      <th>education</th>\n",
       "      <th>educNum</th>\n",
       "      <th>mariStat</th>\n",
       "      <th>occup</th>\n",
       "      <th>origEthn</th>\n",
       "      <th>sex</th>\n",
       "      <th>capitalGain</th>\n",
       "      <th>capitalLoss</th>\n",
       "      <th>hoursWeek</th>\n",
       "      <th>income</th>\n",
       "      <th>LcapitalGain</th>\n",
       "      <th>LcapitalLoss</th>\n",
       "      <th>ageQ</th>\n",
       "      <th>hoursWeekQ</th>\n",
       "      <th>child</th>\n",
       "    </tr>\n",
       "  </thead>\n",
       "  <tbody>\n",
       "    <tr>\n",
       "      <th>0</th>\n",
       "      <td>39</td>\n",
       "      <td>Other-Govt</td>\n",
       "      <td>Bachelors</td>\n",
       "      <td>13</td>\n",
       "      <td>Never-Married</td>\n",
       "      <td>Admin</td>\n",
       "      <td>CaucYes</td>\n",
       "      <td>Male</td>\n",
       "      <td>cgLow</td>\n",
       "      <td>None</td>\n",
       "      <td>40</td>\n",
       "      <td>incLow</td>\n",
       "      <td>7.684784</td>\n",
       "      <td>0.0</td>\n",
       "      <td>Ag3</td>\n",
       "      <td>HW2</td>\n",
       "      <td>ChildNo</td>\n",
       "    </tr>\n",
       "    <tr>\n",
       "      <th>1</th>\n",
       "      <td>50</td>\n",
       "      <td>Self-Employed</td>\n",
       "      <td>Bachelors</td>\n",
       "      <td>13</td>\n",
       "      <td>Married</td>\n",
       "      <td>White-Collar</td>\n",
       "      <td>CaucYes</td>\n",
       "      <td>Male</td>\n",
       "      <td>None</td>\n",
       "      <td>None</td>\n",
       "      <td>13</td>\n",
       "      <td>incLow</td>\n",
       "      <td>0.000000</td>\n",
       "      <td>0.0</td>\n",
       "      <td>Ag4</td>\n",
       "      <td>HW1</td>\n",
       "      <td>ChildNo</td>\n",
       "    </tr>\n",
       "    <tr>\n",
       "      <th>2</th>\n",
       "      <td>38</td>\n",
       "      <td>Private</td>\n",
       "      <td>HS-grad</td>\n",
       "      <td>9</td>\n",
       "      <td>Not-Married</td>\n",
       "      <td>Blue-Collar</td>\n",
       "      <td>CaucYes</td>\n",
       "      <td>Male</td>\n",
       "      <td>None</td>\n",
       "      <td>None</td>\n",
       "      <td>40</td>\n",
       "      <td>incLow</td>\n",
       "      <td>0.000000</td>\n",
       "      <td>0.0</td>\n",
       "      <td>Ag3</td>\n",
       "      <td>HW2</td>\n",
       "      <td>ChildNo</td>\n",
       "    </tr>\n",
       "    <tr>\n",
       "      <th>3</th>\n",
       "      <td>53</td>\n",
       "      <td>Private</td>\n",
       "      <td>Dropout</td>\n",
       "      <td>7</td>\n",
       "      <td>Married</td>\n",
       "      <td>Blue-Collar</td>\n",
       "      <td>CaucNo</td>\n",
       "      <td>Male</td>\n",
       "      <td>None</td>\n",
       "      <td>None</td>\n",
       "      <td>40</td>\n",
       "      <td>incLow</td>\n",
       "      <td>0.000000</td>\n",
       "      <td>0.0</td>\n",
       "      <td>Ag5</td>\n",
       "      <td>HW2</td>\n",
       "      <td>ChildNo</td>\n",
       "    </tr>\n",
       "    <tr>\n",
       "      <th>4</th>\n",
       "      <td>28</td>\n",
       "      <td>Private</td>\n",
       "      <td>Bachelors</td>\n",
       "      <td>13</td>\n",
       "      <td>Married</td>\n",
       "      <td>Professional</td>\n",
       "      <td>CaucNo</td>\n",
       "      <td>Female</td>\n",
       "      <td>None</td>\n",
       "      <td>None</td>\n",
       "      <td>40</td>\n",
       "      <td>incLow</td>\n",
       "      <td>0.000000</td>\n",
       "      <td>0.0</td>\n",
       "      <td>Ag2</td>\n",
       "      <td>HW2</td>\n",
       "      <td>ChildNo</td>\n",
       "    </tr>\n",
       "  </tbody>\n",
       "</table>\n",
       "</div>"
      ],
      "text/plain": [
       "   age      workClass  education  educNum       mariStat         occup  \\\n",
       "0   39     Other-Govt  Bachelors       13  Never-Married         Admin   \n",
       "1   50  Self-Employed  Bachelors       13        Married  White-Collar   \n",
       "2   38        Private    HS-grad        9    Not-Married   Blue-Collar   \n",
       "3   53        Private    Dropout        7        Married   Blue-Collar   \n",
       "4   28        Private  Bachelors       13        Married  Professional   \n",
       "\n",
       "  origEthn      sex capitalGain capitalLoss  hoursWeek  income  LcapitalGain  \\\n",
       "0  CaucYes     Male       cgLow        None         40  incLow      7.684784   \n",
       "1  CaucYes     Male        None        None         13  incLow      0.000000   \n",
       "2  CaucYes     Male        None        None         40  incLow      0.000000   \n",
       "3   CaucNo     Male        None        None         40  incLow      0.000000   \n",
       "4   CaucNo   Female        None        None         40  incLow      0.000000   \n",
       "\n",
       "   LcapitalLoss ageQ hoursWeekQ    child  \n",
       "0           0.0  Ag3        HW2  ChildNo  \n",
       "1           0.0  Ag4        HW1  ChildNo  \n",
       "2           0.0  Ag3        HW2  ChildNo  \n",
       "3           0.0  Ag5        HW2  ChildNo  \n",
       "4           0.0  Ag2        HW2  ChildNo  "
      ]
     },
     "execution_count": 46,
     "metadata": {},
     "output_type": "execute_result"
    }
   ],
   "source": [
    "adult.head()"
   ]
  },
  {
   "cell_type": "markdown",
   "metadata": {
    "colab_type": "text",
    "id": "RCjbq8zhOn3o"
   },
   "source": [
    "### 1.3 Description multivariée\n",
    "Une afcm serait bienvenue à ce niveau de l'étude; elle est exécutée dans le calepin en R avec des graphiques plus élégants."
   ]
  },
  {
   "cell_type": "code",
   "execution_count": null,
   "metadata": {
    "colab": {},
    "colab_type": "code",
    "id": "Ajqp37cQZaPR",
    "pycharm": {
     "is_executing": false
    }
   },
   "outputs": [],
   "source": []
  },
  {
   "cell_type": "markdown",
   "metadata": {
    "colab_type": "text",
    "id": "A-9mUC41On3p"
   },
   "source": [
    "### 1.4 Variables indicatrices\n",
    "\n",
    "**Q** Pourquoi l’introduction de *dummy variables*? Pour quelles méthodes cela serait-il aussi nécessaire en R?  \n",
    "**R** Les variables indicatrice sont utiles pour les algorithmes qui ne peuvent pas utiliser de données autres que numériques (par exemple : régression logisitique, neural network...)"
   ]
  },
  {
   "cell_type": "code",
   "execution_count": 47,
   "metadata": {
    "ExecuteTime": {
     "end_time": "2020-01-13T13:41:00.219589Z",
     "start_time": "2020-01-13T13:41:00.116175Z"
    },
    "colab": {
     "base_uri": "https://localhost:8080/",
     "height": 241
    },
    "colab_type": "code",
    "id": "AQmik5U-On3p",
    "outputId": "c0533f36-bba4-4b12-bd7f-f5991c44d308",
    "pycharm": {
     "is_executing": false
    }
   },
   "outputs": [
    {
     "data": {
      "text/html": [
       "<div>\n",
       "<style scoped>\n",
       "    .dataframe tbody tr th:only-of-type {\n",
       "        vertical-align: middle;\n",
       "    }\n",
       "\n",
       "    .dataframe tbody tr th {\n",
       "        vertical-align: top;\n",
       "    }\n",
       "\n",
       "    .dataframe thead th {\n",
       "        text-align: right;\n",
       "    }\n",
       "</style>\n",
       "<table border=\"1\" class=\"dataframe\">\n",
       "  <thead>\n",
       "    <tr style=\"text-align: right;\">\n",
       "      <th></th>\n",
       "      <th>workClass_Federal-Govt</th>\n",
       "      <th>workClass_Not-Working</th>\n",
       "      <th>workClass_Other-Govt</th>\n",
       "      <th>workClass_Private</th>\n",
       "      <th>workClass_Self-Employed</th>\n",
       "      <th>education_Associates</th>\n",
       "      <th>education_Bachelors</th>\n",
       "      <th>education_Doctorate</th>\n",
       "      <th>education_Dropout</th>\n",
       "      <th>education_HS-Graduate</th>\n",
       "      <th>...</th>\n",
       "      <th>ageQ_Ag1</th>\n",
       "      <th>ageQ_Ag2</th>\n",
       "      <th>ageQ_Ag3</th>\n",
       "      <th>ageQ_Ag4</th>\n",
       "      <th>ageQ_Ag5</th>\n",
       "      <th>hoursWeekQ_HW1</th>\n",
       "      <th>hoursWeekQ_HW2</th>\n",
       "      <th>hoursWeekQ_HW3</th>\n",
       "      <th>child_ChildNo</th>\n",
       "      <th>child_ChildYes</th>\n",
       "    </tr>\n",
       "  </thead>\n",
       "  <tbody>\n",
       "    <tr>\n",
       "      <th>0</th>\n",
       "      <td>0</td>\n",
       "      <td>0</td>\n",
       "      <td>1</td>\n",
       "      <td>0</td>\n",
       "      <td>0</td>\n",
       "      <td>0</td>\n",
       "      <td>1</td>\n",
       "      <td>0</td>\n",
       "      <td>0</td>\n",
       "      <td>0</td>\n",
       "      <td>...</td>\n",
       "      <td>0</td>\n",
       "      <td>0</td>\n",
       "      <td>1</td>\n",
       "      <td>0</td>\n",
       "      <td>0</td>\n",
       "      <td>0</td>\n",
       "      <td>1</td>\n",
       "      <td>0</td>\n",
       "      <td>1</td>\n",
       "      <td>0</td>\n",
       "    </tr>\n",
       "    <tr>\n",
       "      <th>1</th>\n",
       "      <td>0</td>\n",
       "      <td>0</td>\n",
       "      <td>0</td>\n",
       "      <td>0</td>\n",
       "      <td>1</td>\n",
       "      <td>0</td>\n",
       "      <td>1</td>\n",
       "      <td>0</td>\n",
       "      <td>0</td>\n",
       "      <td>0</td>\n",
       "      <td>...</td>\n",
       "      <td>0</td>\n",
       "      <td>0</td>\n",
       "      <td>0</td>\n",
       "      <td>1</td>\n",
       "      <td>0</td>\n",
       "      <td>1</td>\n",
       "      <td>0</td>\n",
       "      <td>0</td>\n",
       "      <td>1</td>\n",
       "      <td>0</td>\n",
       "    </tr>\n",
       "    <tr>\n",
       "      <th>2</th>\n",
       "      <td>0</td>\n",
       "      <td>0</td>\n",
       "      <td>0</td>\n",
       "      <td>1</td>\n",
       "      <td>0</td>\n",
       "      <td>0</td>\n",
       "      <td>0</td>\n",
       "      <td>0</td>\n",
       "      <td>0</td>\n",
       "      <td>0</td>\n",
       "      <td>...</td>\n",
       "      <td>0</td>\n",
       "      <td>0</td>\n",
       "      <td>1</td>\n",
       "      <td>0</td>\n",
       "      <td>0</td>\n",
       "      <td>0</td>\n",
       "      <td>1</td>\n",
       "      <td>0</td>\n",
       "      <td>1</td>\n",
       "      <td>0</td>\n",
       "    </tr>\n",
       "    <tr>\n",
       "      <th>3</th>\n",
       "      <td>0</td>\n",
       "      <td>0</td>\n",
       "      <td>0</td>\n",
       "      <td>1</td>\n",
       "      <td>0</td>\n",
       "      <td>0</td>\n",
       "      <td>0</td>\n",
       "      <td>0</td>\n",
       "      <td>1</td>\n",
       "      <td>0</td>\n",
       "      <td>...</td>\n",
       "      <td>0</td>\n",
       "      <td>0</td>\n",
       "      <td>0</td>\n",
       "      <td>0</td>\n",
       "      <td>1</td>\n",
       "      <td>0</td>\n",
       "      <td>1</td>\n",
       "      <td>0</td>\n",
       "      <td>1</td>\n",
       "      <td>0</td>\n",
       "    </tr>\n",
       "    <tr>\n",
       "      <th>4</th>\n",
       "      <td>0</td>\n",
       "      <td>0</td>\n",
       "      <td>0</td>\n",
       "      <td>1</td>\n",
       "      <td>0</td>\n",
       "      <td>0</td>\n",
       "      <td>1</td>\n",
       "      <td>0</td>\n",
       "      <td>0</td>\n",
       "      <td>0</td>\n",
       "      <td>...</td>\n",
       "      <td>0</td>\n",
       "      <td>1</td>\n",
       "      <td>0</td>\n",
       "      <td>0</td>\n",
       "      <td>0</td>\n",
       "      <td>0</td>\n",
       "      <td>1</td>\n",
       "      <td>0</td>\n",
       "      <td>1</td>\n",
       "      <td>0</td>\n",
       "    </tr>\n",
       "  </tbody>\n",
       "</table>\n",
       "<p>5 rows × 44 columns</p>\n",
       "</div>"
      ],
      "text/plain": [
       "   workClass_Federal-Govt  workClass_Not-Working  workClass_Other-Govt  \\\n",
       "0                       0                      0                     1   \n",
       "1                       0                      0                     0   \n",
       "2                       0                      0                     0   \n",
       "3                       0                      0                     0   \n",
       "4                       0                      0                     0   \n",
       "\n",
       "   workClass_Private  workClass_Self-Employed  education_Associates  \\\n",
       "0                  0                        0                     0   \n",
       "1                  0                        1                     0   \n",
       "2                  1                        0                     0   \n",
       "3                  1                        0                     0   \n",
       "4                  1                        0                     0   \n",
       "\n",
       "   education_Bachelors  education_Doctorate  education_Dropout  \\\n",
       "0                    1                    0                  0   \n",
       "1                    1                    0                  0   \n",
       "2                    0                    0                  0   \n",
       "3                    0                    0                  1   \n",
       "4                    1                    0                  0   \n",
       "\n",
       "   education_HS-Graduate  ...  ageQ_Ag1  ageQ_Ag2  ageQ_Ag3  ageQ_Ag4  \\\n",
       "0                      0  ...         0         0         1         0   \n",
       "1                      0  ...         0         0         0         1   \n",
       "2                      0  ...         0         0         1         0   \n",
       "3                      0  ...         0         0         0         0   \n",
       "4                      0  ...         0         1         0         0   \n",
       "\n",
       "   ageQ_Ag5  hoursWeekQ_HW1  hoursWeekQ_HW2  hoursWeekQ_HW3  child_ChildNo  \\\n",
       "0         0               0               1               0              1   \n",
       "1         0               1               0               0              1   \n",
       "2         0               0               1               0              1   \n",
       "3         1               0               1               0              1   \n",
       "4         0               0               1               0              1   \n",
       "\n",
       "   child_ChildYes  \n",
       "0               0  \n",
       "1               0  \n",
       "2               0  \n",
       "3               0  \n",
       "4               0  \n",
       "\n",
       "[5 rows x 44 columns]"
      ]
     },
     "execution_count": 47,
     "metadata": {},
     "output_type": "execute_result"
    }
   ],
   "source": [
    "adultDum=pd.get_dummies(adult[[\"workClass\",\"education\",\"mariStat\",\n",
    "    \"occup\",\"origEthn\",\"sex\",\"capitalGain\",\"capitalLoss\",\"ageQ\",\"hoursWeekQ\",\"child\"]])\n",
    "adultDum.head()"
   ]
  },
  {
   "cell_type": "code",
   "execution_count": 48,
   "metadata": {
    "ExecuteTime": {
     "end_time": "2020-01-13T13:41:00.261636Z",
     "start_time": "2020-01-13T13:41:00.221029Z"
    },
    "colab": {},
    "colab_type": "code",
    "id": "wXAMOajfOn3r",
    "pycharm": {
     "is_executing": false
    }
   },
   "outputs": [],
   "source": [
    "adultJoin = adult[[\"age\",\"educNum\",\"hoursWeek\",\"LcapitalGain\",\"LcapitalLoss\",\"income\"]].join(adultDum)"
   ]
  },
  {
   "cell_type": "code",
   "execution_count": 49,
   "metadata": {
    "ExecuteTime": {
     "end_time": "2020-01-13T13:41:00.333085Z",
     "start_time": "2020-01-13T13:41:00.262966Z"
    },
    "colab": {
     "base_uri": "https://localhost:8080/",
     "height": 241
    },
    "colab_type": "code",
    "id": "8pbhDYWEMbGA",
    "outputId": "1c686a9c-5c58-42d2-8f84-97c02c44afe3",
    "pycharm": {
     "is_executing": false
    }
   },
   "outputs": [
    {
     "data": {
      "text/html": [
       "<div>\n",
       "<style scoped>\n",
       "    .dataframe tbody tr th:only-of-type {\n",
       "        vertical-align: middle;\n",
       "    }\n",
       "\n",
       "    .dataframe tbody tr th {\n",
       "        vertical-align: top;\n",
       "    }\n",
       "\n",
       "    .dataframe thead th {\n",
       "        text-align: right;\n",
       "    }\n",
       "</style>\n",
       "<table border=\"1\" class=\"dataframe\">\n",
       "  <thead>\n",
       "    <tr style=\"text-align: right;\">\n",
       "      <th></th>\n",
       "      <th>age</th>\n",
       "      <th>educNum</th>\n",
       "      <th>hoursWeek</th>\n",
       "      <th>LcapitalGain</th>\n",
       "      <th>LcapitalLoss</th>\n",
       "      <th>income</th>\n",
       "      <th>workClass_Federal-Govt</th>\n",
       "      <th>workClass_Not-Working</th>\n",
       "      <th>workClass_Other-Govt</th>\n",
       "      <th>workClass_Private</th>\n",
       "      <th>...</th>\n",
       "      <th>ageQ_Ag1</th>\n",
       "      <th>ageQ_Ag2</th>\n",
       "      <th>ageQ_Ag3</th>\n",
       "      <th>ageQ_Ag4</th>\n",
       "      <th>ageQ_Ag5</th>\n",
       "      <th>hoursWeekQ_HW1</th>\n",
       "      <th>hoursWeekQ_HW2</th>\n",
       "      <th>hoursWeekQ_HW3</th>\n",
       "      <th>child_ChildNo</th>\n",
       "      <th>child_ChildYes</th>\n",
       "    </tr>\n",
       "  </thead>\n",
       "  <tbody>\n",
       "    <tr>\n",
       "      <th>0</th>\n",
       "      <td>39</td>\n",
       "      <td>13</td>\n",
       "      <td>40</td>\n",
       "      <td>7.684784</td>\n",
       "      <td>0.0</td>\n",
       "      <td>incLow</td>\n",
       "      <td>0</td>\n",
       "      <td>0</td>\n",
       "      <td>1</td>\n",
       "      <td>0</td>\n",
       "      <td>...</td>\n",
       "      <td>0</td>\n",
       "      <td>0</td>\n",
       "      <td>1</td>\n",
       "      <td>0</td>\n",
       "      <td>0</td>\n",
       "      <td>0</td>\n",
       "      <td>1</td>\n",
       "      <td>0</td>\n",
       "      <td>1</td>\n",
       "      <td>0</td>\n",
       "    </tr>\n",
       "    <tr>\n",
       "      <th>1</th>\n",
       "      <td>50</td>\n",
       "      <td>13</td>\n",
       "      <td>13</td>\n",
       "      <td>0.000000</td>\n",
       "      <td>0.0</td>\n",
       "      <td>incLow</td>\n",
       "      <td>0</td>\n",
       "      <td>0</td>\n",
       "      <td>0</td>\n",
       "      <td>0</td>\n",
       "      <td>...</td>\n",
       "      <td>0</td>\n",
       "      <td>0</td>\n",
       "      <td>0</td>\n",
       "      <td>1</td>\n",
       "      <td>0</td>\n",
       "      <td>1</td>\n",
       "      <td>0</td>\n",
       "      <td>0</td>\n",
       "      <td>1</td>\n",
       "      <td>0</td>\n",
       "    </tr>\n",
       "    <tr>\n",
       "      <th>2</th>\n",
       "      <td>38</td>\n",
       "      <td>9</td>\n",
       "      <td>40</td>\n",
       "      <td>0.000000</td>\n",
       "      <td>0.0</td>\n",
       "      <td>incLow</td>\n",
       "      <td>0</td>\n",
       "      <td>0</td>\n",
       "      <td>0</td>\n",
       "      <td>1</td>\n",
       "      <td>...</td>\n",
       "      <td>0</td>\n",
       "      <td>0</td>\n",
       "      <td>1</td>\n",
       "      <td>0</td>\n",
       "      <td>0</td>\n",
       "      <td>0</td>\n",
       "      <td>1</td>\n",
       "      <td>0</td>\n",
       "      <td>1</td>\n",
       "      <td>0</td>\n",
       "    </tr>\n",
       "    <tr>\n",
       "      <th>3</th>\n",
       "      <td>53</td>\n",
       "      <td>7</td>\n",
       "      <td>40</td>\n",
       "      <td>0.000000</td>\n",
       "      <td>0.0</td>\n",
       "      <td>incLow</td>\n",
       "      <td>0</td>\n",
       "      <td>0</td>\n",
       "      <td>0</td>\n",
       "      <td>1</td>\n",
       "      <td>...</td>\n",
       "      <td>0</td>\n",
       "      <td>0</td>\n",
       "      <td>0</td>\n",
       "      <td>0</td>\n",
       "      <td>1</td>\n",
       "      <td>0</td>\n",
       "      <td>1</td>\n",
       "      <td>0</td>\n",
       "      <td>1</td>\n",
       "      <td>0</td>\n",
       "    </tr>\n",
       "    <tr>\n",
       "      <th>4</th>\n",
       "      <td>28</td>\n",
       "      <td>13</td>\n",
       "      <td>40</td>\n",
       "      <td>0.000000</td>\n",
       "      <td>0.0</td>\n",
       "      <td>incLow</td>\n",
       "      <td>0</td>\n",
       "      <td>0</td>\n",
       "      <td>0</td>\n",
       "      <td>1</td>\n",
       "      <td>...</td>\n",
       "      <td>0</td>\n",
       "      <td>1</td>\n",
       "      <td>0</td>\n",
       "      <td>0</td>\n",
       "      <td>0</td>\n",
       "      <td>0</td>\n",
       "      <td>1</td>\n",
       "      <td>0</td>\n",
       "      <td>1</td>\n",
       "      <td>0</td>\n",
       "    </tr>\n",
       "  </tbody>\n",
       "</table>\n",
       "<p>5 rows × 50 columns</p>\n",
       "</div>"
      ],
      "text/plain": [
       "   age  educNum  hoursWeek  LcapitalGain  LcapitalLoss  income  \\\n",
       "0   39       13         40      7.684784           0.0  incLow   \n",
       "1   50       13         13      0.000000           0.0  incLow   \n",
       "2   38        9         40      0.000000           0.0  incLow   \n",
       "3   53        7         40      0.000000           0.0  incLow   \n",
       "4   28       13         40      0.000000           0.0  incLow   \n",
       "\n",
       "   workClass_Federal-Govt  workClass_Not-Working  workClass_Other-Govt  \\\n",
       "0                       0                      0                     1   \n",
       "1                       0                      0                     0   \n",
       "2                       0                      0                     0   \n",
       "3                       0                      0                     0   \n",
       "4                       0                      0                     0   \n",
       "\n",
       "   workClass_Private  ...  ageQ_Ag1  ageQ_Ag2  ageQ_Ag3  ageQ_Ag4  ageQ_Ag5  \\\n",
       "0                  0  ...         0         0         1         0         0   \n",
       "1                  0  ...         0         0         0         1         0   \n",
       "2                  1  ...         0         0         1         0         0   \n",
       "3                  1  ...         0         0         0         0         1   \n",
       "4                  1  ...         0         1         0         0         0   \n",
       "\n",
       "   hoursWeekQ_HW1  hoursWeekQ_HW2  hoursWeekQ_HW3  child_ChildNo  \\\n",
       "0               0               1               0              1   \n",
       "1               1               0               0              1   \n",
       "2               0               1               0              1   \n",
       "3               0               1               0              1   \n",
       "4               0               1               0              1   \n",
       "\n",
       "   child_ChildYes  \n",
       "0               0  \n",
       "1               0  \n",
       "2               0  \n",
       "3               0  \n",
       "4               0  \n",
       "\n",
       "[5 rows x 50 columns]"
      ]
     },
     "execution_count": 49,
     "metadata": {},
     "output_type": "execute_result"
    }
   ],
   "source": [
    "adultJoin.head()"
   ]
  },
  {
   "cell_type": "markdown",
   "metadata": {
    "colab_type": "text",
    "id": "ObLdADUZOn3s"
   },
   "source": [
    "## 2 Méthodes de modélisation \n",
    "\n",
    "\n",
    "### 2.1  Extraction des échantillons\n",
    "**Q** Quels sont les objectifs des cellules suivantes ? Justifier la nécessité de ce traitement."
   ]
  },
  {
   "cell_type": "markdown",
   "metadata": {
    "colab_type": "text",
    "id": "x-6pIbYRfFsH"
   },
   "source": [
    "**R** Sépare les données pour la prédictions et les données cibles (income), puis créer les ensembles de test/validation. La séparation de la target est nécessaire pour l'apprentissage car le but est de pouvoir prédire correctement sa valeur. Séparer les ensembles test et validation permet de tester notre model sur des données sur lesquelles il n'a pas été entrainé. ça permet d'éviter le sur-apprentissage."
   ]
  },
  {
   "cell_type": "code",
   "execution_count": 71,
   "metadata": {
    "ExecuteTime": {
     "end_time": "2020-01-13T13:51:12.550620Z",
     "start_time": "2020-01-13T13:51:12.546870Z"
    },
    "pycharm": {
     "is_executing": false,
     "name": "#%%\n"
    }
   },
   "outputs": [],
   "source": [
    "''' sex = 'Male'  or 'Female' '''\n",
    "def  get_dataset_by_sex(df, sex=None):\n",
    "    if sex != \"Male\" and sex != \"Female\":\n",
    "        raise ValueError('Sex is neither Male nor Female')\n",
    "    elif sex is not None:\n",
    "        column = 'sex_ ' + sex\n",
    "        return df[df[column] == 1]\n",
    "    else:\n",
    "        return df"
   ]
  },
  {
   "cell_type": "code",
   "execution_count": 85,
   "metadata": {
    "ExecuteTime": {
     "end_time": "2020-01-13T14:09:56.338243Z",
     "start_time": "2020-01-13T14:09:56.328990Z"
    }
   },
   "outputs": [],
   "source": [
    "adultJoin_f = get_dataset_by_sex(adultJoin, \"Female\")\n",
    "adultJoin_m = get_dataset_by_sex(adultJoin, \"Male\")"
   ]
  },
  {
   "cell_type": "code",
   "execution_count": 87,
   "metadata": {
    "ExecuteTime": {
     "end_time": "2020-01-13T14:11:36.466898Z",
     "start_time": "2020-01-13T14:11:36.447352Z"
    },
    "colab": {},
    "colab_type": "code",
    "id": "RdgPU7ugOn3t",
    "pycharm": {
     "is_executing": false
    }
   },
   "outputs": [],
   "source": [
    "def getXY(adultJoin, n=20000, var_cible='income'):\n",
    "    # Sélection de n lignes de adultJoin au hasard\n",
    "    ind_ech = np.random.choice(adultJoin.index.values, n)\n",
    "    adultEch=adultJoin.loc[ind_ech]\n",
    "    # Variable cible\n",
    "    Y=adultEch[var_cible]\n",
    "    # Variables prédictives\n",
    "    X=adultEch.drop([var_cible],axis=1)\n",
    "    return X,Y\n",
    "\n",
    "X, Y = getXY(adultJoin)\n",
    "X_f, Y_f = getXY(adultJoin_f)\n",
    "X_m, Y_m = getXY(adultJoin_m)"
   ]
  },
  {
   "cell_type": "code",
   "execution_count": 63,
   "metadata": {
    "ExecuteTime": {
     "end_time": "2020-01-13T13:46:56.576435Z",
     "start_time": "2020-01-13T13:46:56.153221Z"
    },
    "colab": {},
    "colab_type": "code",
    "id": "ZBlqHiUWOn3u",
    "pycharm": {
     "is_executing": false
    }
   },
   "outputs": [],
   "source": [
    "from sklearn.model_selection import train_test_split  \n",
    "X_train,X_test,Y_train,Y_test=train_test_split(X,Y,test_size=5000,random_state=11)\n",
    "X_f_train,X_test,Y_f_train,Y_f_test=train_test_split(X,Y,test_size=5000,random_state=11)\n",
    "X_train,X_m_test,Y_m_train,Y_m_test=train_test_split(X,Y,test_size=5000,random_state=11)"
   ]
  },
  {
   "cell_type": "code",
   "execution_count": 64,
   "metadata": {
    "ExecuteTime": {
     "end_time": "2020-01-13T13:46:57.402999Z",
     "start_time": "2020-01-13T13:46:57.398981Z"
    },
    "colab": {
     "base_uri": "https://localhost:8080/",
     "height": 85
    },
    "colab_type": "code",
    "id": "v9P2avfGMm1j",
    "outputId": "933cb99b-5b3d-4a11-d0c2-0213fb3c54b3",
    "pycharm": {
     "is_executing": false
    }
   },
   "outputs": [
    {
     "name": "stdout",
     "output_type": "stream",
     "text": [
      "Shape de X_train :  (15000, 49)\n",
      "Shape de Y_train :  (15000,)\n",
      "Shape de X_test :  (5000, 49)\n",
      "Shape de Y_test :  (5000,)\n"
     ]
    }
   ],
   "source": [
    "print(\"Shape de X_train : \",X_train.shape)\n",
    "print(\"Shape de Y_train : \",Y_train.shape)\n",
    "print(\"Shape de X_test : \",X_test.shape)\n",
    "print(\"Shape de Y_test : \",Y_test.shape)"
   ]
  },
  {
   "cell_type": "code",
   "execution_count": 80,
   "metadata": {
    "ExecuteTime": {
     "end_time": "2020-01-13T14:05:05.073048Z",
     "start_time": "2020-01-13T14:05:05.066655Z"
    }
   },
   "outputs": [],
   "source": [
    "X_f = get_dataset_by_sex(adultJoin, \"Female\")"
   ]
  },
  {
   "cell_type": "code",
   "execution_count": null,
   "metadata": {},
   "outputs": [],
   "source": [
    "X_f_train,X_test,Y_f_train,Y_f_test=train_test_split(X,Y,test_size=5000,random_state=11)"
   ]
  },
  {
   "cell_type": "markdown",
   "metadata": {
    "colab_type": "text",
    "id": "ZYZ-2Y6K1Cae"
   },
   "source": [
    "### 2.2  Méthode pour le calcul du disparity impact"
   ]
  },
  {
   "cell_type": "code",
   "execution_count": 96,
   "metadata": {
    "colab": {},
    "colab_type": "code",
    "id": "gF8Sf9Pp0-vl",
    "pycharm": {
     "is_executing": false
    }
   },
   "outputs": [],
   "source": [
    "def incHighToOne(str):\n",
    "  if(str=='incHigh'): return 1\n",
    "  else: return 0\n",
    "\n",
    "\n",
    "def incHighToOneArray(array):\n",
    "  return np.array(list(map(incHighToOne,y_chap)))\n",
    "\n",
    "\n",
    "\n",
    "def disparity_impact(X_test,y):\n",
    "  y_incHigh = incHighToOneArray(y)\n",
    "\n",
    "  i=0\n",
    "  countF=0\n",
    "  for index, row in X_test.iterrows():\n",
    "    countF += row['sex_ Female'] * y_incHigh[i]\n",
    "    i += 1\n",
    "\n",
    "  i=0\n",
    "  countM=0\n",
    "  for index, row in X_test.iterrows():\n",
    "    countM += row['sex_ Male'] * y_incHigh[i]\n",
    "    i += 1\n",
    "\n",
    "  P_F = countF/sum(X_test['sex_ Female'])\n",
    "  P_M = countM/sum(X_test['sex_ Male'])\n",
    "  return P_F, P_M, P_F/P_M"
   ]
  },
  {
   "cell_type": "markdown",
   "metadata": {
    "colab_type": "text",
    "id": "rVff8aybOn3w"
   },
   "source": [
    "\n",
    "### 2.3 [Régression logistique](http://wikistat.fr/pdf/st-m-app-rlogit.pdf)\n",
    "**Q** Commenter  les options de la commande  `GridSearchCV`. A quoi sert `param` ?"
   ]
  },
  {
   "cell_type": "markdown",
   "metadata": {
    "colab_type": "text",
    "id": "AdNdEBogfzIc"
   },
   "source": [
    "**R** Model à optimiser ; Liste des paramêtres à tester ; cv=10 taille de la cross validation ; nombre de jobs pour la parallélisation  \n",
    "**R** Param permet de donner la liste des paramètres à tester (pour choisir le meilleur) ici, param contient uniquement le paramètre C qui est :  \n",
    "\n",
    "*Inverse of regularization strength; must be a positive float. Like in support vector machines, smaller values specify stronger regularization.*\n",
    "\n",
    "\n",
    "C est donc le paramètre de régularisation du la regression logistique"
   ]
  },
  {
   "cell_type": "code",
   "execution_count": 97,
   "metadata": {
    "colab": {
     "base_uri": "https://localhost:8080/",
     "height": 34
    },
    "colab_type": "code",
    "id": "ZQ1BlkJzOn37",
    "outputId": "396bd153-ac54-48d0-90ff-d420164139b9",
    "pycharm": {
     "is_executing": false
    }
   },
   "outputs": [
    {
     "name": "stdout",
     "output_type": "stream",
     "text": [
      "Temps logit = 25.331010, Meilleur taux = 0.152800, Meilleur paramètre = {'C': 1.5}\n"
     ]
    }
   ],
   "source": [
    "from sklearn.linear_model import LogisticRegression\n",
    "from sklearn.model_selection import GridSearchCV\n",
    "import time\n",
    "tps0=time.perf_counter()\n",
    "# Optimisation du paramètre de pénalisation\n",
    "# grille de valeurs\n",
    "param=[{\"C\":[1.2,1.3,1.4,1.5,1.6,1.7]}]\n",
    "logit = GridSearchCV(LogisticRegression(penalty=\"l1\",solver=\"liblinear\"), param,cv=10,n_jobs=-1)\n",
    "logitOpt=logit.fit(X_train, Y_train)  # GridSearchCV est lui même un estimateur\n",
    "# paramètre optimal\n",
    "logitOpt.best_params_[\"C\"]\n",
    "tps1=(time.perf_counter()-tps0)\n",
    "print(\"Temps logit = %f, Meilleur taux = %f, Meilleur paramètre = %s\" % (tps1,\n",
    "                              1.-logitOpt.best_score_,logitOpt.best_params_))"
   ]
  },
  {
   "cell_type": "code",
   "execution_count": 98,
   "metadata": {
    "colab": {
     "base_uri": "https://localhost:8080/",
     "height": 34
    },
    "colab_type": "code",
    "id": "GsWwsodbOn38",
    "outputId": "8f7b3a0b-969e-493a-e381-bb25c8017d0e",
    "pycharm": {
     "is_executing": false
    }
   },
   "outputs": [
    {
     "data": {
      "text/plain": [
       "0.13959999999999995"
      ]
     },
     "execution_count": 98,
     "metadata": {},
     "output_type": "execute_result"
    }
   ],
   "source": [
    "# erreur sur l'échantillon test\n",
    "1-logitOpt.score(X_test, Y_test)"
   ]
  },
  {
   "cell_type": "code",
   "execution_count": 99,
   "metadata": {
    "colab": {
     "base_uri": "https://localhost:8080/",
     "height": 85
    },
    "colab_type": "code",
    "id": "HNxBk8aoOn3-",
    "outputId": "2ebff23c-4837-4ecf-9582-776f27ade120",
    "pycharm": {
     "is_executing": false
    }
   },
   "outputs": [
    {
     "name": "stdout",
     "output_type": "stream",
     "text": [
      "income   incLow  incHigh\n",
      "row_0                   \n",
      "incHigh     233      700\n",
      "incLow     3602      465\n"
     ]
    }
   ],
   "source": [
    "# Prévision\n",
    "y_chap = logitOpt.predict(X_test)\n",
    "# matrice de confusion\n",
    "table=pd.crosstab(y_chap,Y_test)\n",
    "print(table)"
   ]
  },
  {
   "cell_type": "markdown",
   "metadata": {
    "colab_type": "text",
    "id": "tFrwKZ92On4B"
   },
   "source": [
    "**Q** La matrice de confusion n’est pas symétrique. Quelle pourrait en être la raison ?  \n",
    "\n",
    "**R** Cela peut-être dû à la disproportion de highInc et lowInc dans les données d'entrainement. Comme il y a plus de lowInc que de highInc, le modèle est mieux entrainé à reconnaitre les incLow. \n",
    "\n",
    "**Q** Quels algorithmes pourraient être exécutés en R pour la régression logistique? Quelles informations complémentaires en tirer?  \n",
    "  **R** En R il est possible de faire la régression logistique avec intéractions (quadratic). Cependant les performances ne sont pas significativement meilleures. Il est donc possible de continuer avec un model linéaire pour l'étude du biais / discrimination"
   ]
  },
  {
   "cell_type": "code",
   "execution_count": 100,
   "metadata": {
    "colab": {
     "base_uri": "https://localhost:8080/",
     "height": 306
    },
    "colab_type": "code",
    "id": "zjokQfSbOn4B",
    "outputId": "17d4d519-cb29-4fc0-d281-7305f05474d9",
    "pycharm": {
     "is_executing": false
    }
   },
   "outputs": [
    {
     "data": {
      "text/plain": [
       "array([[ 6.81117201e-03, -1.98133503e-01, -6.09635121e-03,\n",
       "        -1.59513276e+00, -2.28306816e-01, -4.69935749e-01,\n",
       "         0.00000000e+00,  1.93871560e-01,  0.00000000e+00,\n",
       "         4.32333546e-01,  4.55250068e-01,  1.24691027e-01,\n",
       "         0.00000000e+00,  5.21106880e-01,  1.49219919e-01,\n",
       "         3.91395856e-01, -2.57606749e-02, -7.26351680e-01,\n",
       "        -3.07564073e-01,  2.09147939e+00,  1.86016366e+00,\n",
       "         1.49225608e+00,  5.29512121e-01,  6.47632794e-01,\n",
       "         0.00000000e+00, -8.46184950e-02,  1.59576718e-01,\n",
       "         1.29400291e+00, -3.63786341e-01,  3.75150135e-01,\n",
       "         1.15628362e-01,  1.75630109e-01,  9.81057182e-02,\n",
       "         0.00000000e+00,  9.54662712e+00,  1.29370569e+01,\n",
       "         0.00000000e+00,  0.00000000e+00,  1.27250358e+00,\n",
       "         1.64059097e+00,  6.17986930e-01,  1.55851355e-01,\n",
       "        -1.21546730e-01,  0.00000000e+00,  8.27279824e-01,\n",
       "         2.70875726e-01,  0.00000000e+00,  1.27654165e-01,\n",
       "         8.14520998e-01]])"
      ]
     },
     "execution_count": 100,
     "metadata": {},
     "output_type": "execute_result"
    }
   ],
   "source": [
    "# Coefficients\n",
    "LogisticRegression(penalty=\"l1\",C=logitOpt.best_params_['C'],\n",
    "                   solver='liblinear').fit(X_train, Y_train).coef_"
   ]
  },
  {
   "cell_type": "markdown",
   "metadata": {
    "colab_type": "text",
    "id": "im-xxc9jOn4D"
   },
   "source": [
    "### 2.4 [Arbre binaire de discrimination](http://wikistat.fr/pdf/st-m-app-cart.pdf)"
   ]
  },
  {
   "cell_type": "code",
   "execution_count": 101,
   "metadata": {
    "colab": {
     "base_uri": "https://localhost:8080/",
     "height": 34
    },
    "colab_type": "code",
    "id": "Yg1Ltwp8On4F",
    "outputId": "6b06ee35-f65e-49e9-f95b-4128691c3b87",
    "pycharm": {
     "is_executing": false
    }
   },
   "outputs": [
    {
     "name": "stdout",
     "output_type": "stream",
     "text": [
      "Temps arbre = 2.333102, Meilleur taux = 0.149000, Meilleur paramètre = {'max_depth': 8}\n"
     ]
    }
   ],
   "source": [
    "from sklearn.tree import DecisionTreeClassifier\n",
    "tps0=time.perf_counter()\n",
    "# Optimisation de la profondeur de l'arbre\n",
    "param=[{\"max_depth\":list(range(2,10))}]\n",
    "tree= GridSearchCV(DecisionTreeClassifier(),param,cv=10,n_jobs=-1)\n",
    "treeOpt=tree.fit(X_train, Y_train)\n",
    "# paramètre optimal\n",
    "tps1=(time.perf_counter()-tps0)\n",
    "print(\"Temps arbre = %f, Meilleur taux = %f, Meilleur paramètre = %s\" % (tps1,\n",
    "                             1. - treeOpt.best_score_,treeOpt.best_params_))"
   ]
  },
  {
   "cell_type": "code",
   "execution_count": 102,
   "metadata": {
    "colab": {
     "base_uri": "https://localhost:8080/",
     "height": 34
    },
    "colab_type": "code",
    "id": "VRrwQswBOn4H",
    "outputId": "c12eee40-dcc3-44cd-a21c-b1022fc71a63",
    "pycharm": {
     "is_executing": false
    }
   },
   "outputs": [
    {
     "data": {
      "text/plain": [
       "0.14080000000000004"
      ]
     },
     "execution_count": 102,
     "metadata": {},
     "output_type": "execute_result"
    }
   ],
   "source": [
    "# Estimation de l'erreur de prévision\n",
    "1-treeOpt.score(X_test,Y_test)"
   ]
  },
  {
   "cell_type": "code",
   "execution_count": 103,
   "metadata": {
    "colab": {
     "base_uri": "https://localhost:8080/",
     "height": 85
    },
    "colab_type": "code",
    "id": "QM3jEfoZOn4J",
    "outputId": "d56a6534-e3c4-4faa-9c76-fbc9ce1f39c7",
    "pycharm": {
     "is_executing": false
    }
   },
   "outputs": [
    {
     "name": "stdout",
     "output_type": "stream",
     "text": [
      "income   incLow  incHigh\n",
      "row_0                   \n",
      "incHigh     238      699\n",
      "incLow     3597      466\n"
     ]
    }
   ],
   "source": [
    "# prévision de l'échantillon test\n",
    "y_chap = treeOpt.predict(X_test)\n",
    "# matrice de confusion\n",
    "table=pd.crosstab(y_chap,Y_test)\n",
    "print(table)"
   ]
  },
  {
   "cell_type": "code",
   "execution_count": 103,
   "metadata": {
    "colab": {
     "base_uri": "https://localhost:8080/",
     "height": 68
    },
    "colab_type": "code",
    "id": "DKnFuvmnojn_",
    "outputId": "e04b2abc-cc1e-4196-e03a-01e060eb001b",
    "pycharm": {
     "is_executing": false
    }
   },
   "outputs": [],
   "source": []
  },
  {
   "cell_type": "code",
   "execution_count": 104,
   "metadata": {
    "colab": {
     "base_uri": "https://localhost:8080/",
     "height": 35
    },
    "colab_type": "code",
    "id": "IdtcW96xOn4L",
    "outputId": "94404271-377d-4a17-e727-f8d51bfd2e8a",
    "pycharm": {
     "is_executing": false
    }
   },
   "outputs": [
    {
     "data": {
      "text/plain": [
       "8"
      ]
     },
     "execution_count": 104,
     "metadata": {},
     "output_type": "execute_result"
    }
   ],
   "source": [
    "treeOpt.best_params_['max_depth']"
   ]
  },
  {
   "cell_type": "code",
   "execution_count": 105,
   "metadata": {
    "colab": {
     "base_uri": "https://localhost:8080/",
     "height": 92
    },
    "colab_type": "code",
    "id": "4kJsI67AOn4M",
    "outputId": "417f1cf4-eda0-4d87-abe6-cf9bc6d96118",
    "pycharm": {
     "is_executing": false
    }
   },
   "outputs": [
    {
     "name": "stderr",
     "output_type": "stream",
     "text": [
      "/home/vavalm/anaconda3/envs/env_data_science/lib/python3.7/site-packages/sklearn/externals/six.py:31: DeprecationWarning: The module is deprecated in version 0.21 and will be removed in version 0.23 since we've dropped support for Python 2.7. Please rely on the official version of six (https://pypi.org/project/six/).\n",
      "  \"(https://pypi.org/project/six/).\", DeprecationWarning)\n"
     ]
    },
    {
     "ename": "ModuleNotFoundError",
     "evalue": "No module named 'pydotplus'",
     "output_type": "error",
     "traceback": [
      "\u001b[0;31m---------------------------------------------------------------------------\u001b[0m",
      "\u001b[0;31mModuleNotFoundError\u001b[0m                       Traceback (most recent call last)",
      "\u001b[0;32m<ipython-input-105-06804b41e740>\u001b[0m in \u001b[0;36m<module>\u001b[0;34m\u001b[0m\n\u001b[1;32m      1\u001b[0m \u001b[0;32mfrom\u001b[0m \u001b[0msklearn\u001b[0m\u001b[0;34m.\u001b[0m\u001b[0mtree\u001b[0m \u001b[0;32mimport\u001b[0m \u001b[0mexport_graphviz\u001b[0m\u001b[0;34m\u001b[0m\u001b[0;34m\u001b[0m\u001b[0m\n\u001b[1;32m      2\u001b[0m \u001b[0;32mfrom\u001b[0m \u001b[0msklearn\u001b[0m\u001b[0;34m.\u001b[0m\u001b[0mexternals\u001b[0m\u001b[0;34m.\u001b[0m\u001b[0msix\u001b[0m \u001b[0;32mimport\u001b[0m \u001b[0mStringIO\u001b[0m\u001b[0;34m\u001b[0m\u001b[0;34m\u001b[0m\u001b[0m\n\u001b[0;32m----> 3\u001b[0;31m \u001b[0;32mimport\u001b[0m \u001b[0mpydotplus\u001b[0m\u001b[0;34m\u001b[0m\u001b[0;34m\u001b[0m\u001b[0m\n\u001b[0m\u001b[1;32m      4\u001b[0m \u001b[0mtreeG\u001b[0m\u001b[0;34m=\u001b[0m\u001b[0mDecisionTreeClassifier\u001b[0m\u001b[0;34m(\u001b[0m\u001b[0mmax_depth\u001b[0m\u001b[0;34m=\u001b[0m\u001b[0mtreeOpt\u001b[0m\u001b[0;34m.\u001b[0m\u001b[0mbest_params_\u001b[0m\u001b[0;34m[\u001b[0m\u001b[0;34m'max_depth'\u001b[0m\u001b[0;34m]\u001b[0m\u001b[0;34m)\u001b[0m\u001b[0;34m\u001b[0m\u001b[0;34m\u001b[0m\u001b[0m\n\u001b[1;32m      5\u001b[0m \u001b[0mtreeG\u001b[0m\u001b[0;34m.\u001b[0m\u001b[0mfit\u001b[0m\u001b[0;34m(\u001b[0m\u001b[0mX_train\u001b[0m\u001b[0;34m,\u001b[0m\u001b[0mY_train\u001b[0m\u001b[0;34m)\u001b[0m\u001b[0;34m\u001b[0m\u001b[0;34m\u001b[0m\u001b[0m\n",
      "\u001b[0;31mModuleNotFoundError\u001b[0m: No module named 'pydotplus'"
     ]
    }
   ],
   "source": [
    "from sklearn.tree import export_graphviz\n",
    "from sklearn.externals.six import StringIO  \n",
    "import pydotplus\n",
    "treeG=DecisionTreeClassifier(max_depth=treeOpt.best_params_['max_depth'])\n",
    "treeG.fit(X_train,Y_train)\n",
    "dot_data = StringIO() \n",
    "export_graphviz(treeG, out_file=dot_data) \n",
    "graph=pydotplus.graph_from_dot_data(dot_data.getvalue()) \n",
    "graph.write_png(\"treeOpt.png\")  "
   ]
  },
  {
   "cell_type": "code",
   "execution_count": null,
   "metadata": {
    "colab": {
     "base_uri": "https://localhost:8080/",
     "height": 1000
    },
    "colab_type": "code",
    "id": "S5ytyZYsOn4N",
    "outputId": "bed4c912-1ee0-4633-de45-abe6b9b856a1",
    "pycharm": {
     "is_executing": false
    }
   },
   "outputs": [],
   "source": [
    "from IPython.display import Image\n",
    "Image(filename='treeOpt.png')"
   ]
  },
  {
   "cell_type": "markdown",
   "metadata": {
    "colab_type": "text",
    "id": "IXcBCE6WOn4P"
   },
   "source": [
    "**Q** Quelle est l’insuffisance de l’implémentation des arbres de décision dans Scikit-learn  par rapport à celle de rpart de R ? Que dire de l’arbre?"
   ]
  },
  {
   "cell_type": "markdown",
   "metadata": {
    "colab_type": "text",
    "id": "Qzgp4BMgWNwq"
   },
   "source": [
    "**R** Bien implémentés dans scikit-learn mais avec une insuffisance pour leur élagage. Ce n'est pas une pénalisation de la complexité (nombre de feuille) mais la profondeur globale de l'arbre => Risque d'élaguer à des feuilles importantes ou de conserver des feuilles ambigües pour une profondeur donnée.  \n",
    "\n",
    "L'arbre obtenu est un arbre binaire parfait. Toutes les feuilles sont à la même profondeur."
   ]
  },
  {
   "cell_type": "markdown",
   "metadata": {
    "colab_type": "text",
    "id": "nrZ__wi3On4P"
   },
   "source": [
    "### 2.5 [Perceptron](http://wikistat.fr/pdf/st-m-app-rn.pdf)"
   ]
  },
  {
   "cell_type": "code",
   "execution_count": null,
   "metadata": {
    "colab": {},
    "colab_type": "code",
    "id": "hCrglwH5On4P",
    "pycharm": {
     "is_executing": false
    }
   },
   "outputs": [],
   "source": [
    "from sklearn.neural_network import MLPClassifier\n",
    "from sklearn.preprocessing import StandardScaler  \n",
    "# L'algorithme ds réseaux de neurones nécessite éventuellement une normalisation \n",
    "# des variables explicatives avec les commandes ci-dessous\n",
    "scaler = StandardScaler()  \n",
    "scaler.fit(X_train.astype(float))  \n",
    "Xnet_train = scaler.transform(X_train.astype(float))  \n",
    "# Meme transformation sur le test\n",
    "Xnet_test = scaler.transform(X_test.astype(float))"
   ]
  },
  {
   "cell_type": "code",
   "execution_count": null,
   "metadata": {
    "colab": {
     "base_uri": "https://localhost:8080/",
     "height": 395
    },
    "colab_type": "code",
    "id": "kSEPhDT8On4R",
    "outputId": "b8d43286-c24a-4ad0-8628-d01dbe1a1b05",
    "pycharm": {
     "is_executing": false
    }
   },
   "outputs": [],
   "source": [
    "tps0=time.perf_counter()\n",
    "param_grid=[{\"hidden_layer_sizes\":list([(4,),(5,),(6,)])}]\n",
    "nnet= GridSearchCV(MLPClassifier(max_iter=500),param_grid,cv=10,n_jobs=-1)\n",
    "nnetOpt=nnet.fit(Xnet_train, Y_train)\n",
    "# paramètre optimal\n",
    "tps1=(time.perf_counter()-tps0)\n",
    "print(\"Temps perceptron = %f, Meilleur taux = %f, Meilleur paramètre = %s\" % (tps1,\n",
    "                                    1. - nnetOpt.best_score_,nnetOpt.best_params_))"
   ]
  },
  {
   "cell_type": "markdown",
   "metadata": {
    "colab_type": "text",
    "id": "fM6FkvC8On4S"
   },
   "source": [
    "**Q** Quelle stratégie d’optimisation est adoptée ? Quelle autre pourrait l’être? Quel réseau pourrait également être pris en compte? Quelles sont les fonctions d’activation des neurones?  \n",
    "\n",
    "**R** On optimise le nombre de noeud sur le layer intermédiaire du MLP. On pourrait également optimiser le nombre de layer. Les neuronnes utilisent une fonction ReLU"
   ]
  },
  {
   "cell_type": "code",
   "execution_count": null,
   "metadata": {
    "colab": {},
    "colab_type": "code",
    "id": "nHdVAphxOn4S",
    "pycharm": {
     "is_executing": false
    }
   },
   "outputs": [],
   "source": [
    "# Estimation de l'erreur de prévision sur le test\n",
    "1-nnetOpt.score(Xnet_test,Y_test)"
   ]
  },
  {
   "cell_type": "code",
   "execution_count": null,
   "metadata": {
    "colab": {
     "base_uri": "https://localhost:8080/",
     "height": 90
    },
    "colab_type": "code",
    "id": "uRKgFk-POn4V",
    "outputId": "c430c2fc-4001-4534-b790-e8065be11ca4",
    "pycharm": {
     "is_executing": false
    }
   },
   "outputs": [],
   "source": [
    "# prévision de l'échantillon test\n",
    "y_chap = nnetOpt.predict(Xnet_test)\n",
    "# matrice de confusion\n",
    "table=pd.crosstab(y_chap,Y_test)\n",
    "print(table)"
   ]
  },
  {
   "cell_type": "markdown",
   "metadata": {
    "colab_type": "text",
    "id": "Kyg23meUWNFS"
   },
   "source": []
  },
  {
   "cell_type": "markdown",
   "metadata": {
    "colab_type": "text",
    "id": "y_-jiAnnOn4W"
   },
   "source": [
    "### 2.6 [Forêts aléatoires](http://wikistat.fr/pdf/st-m-app-agreg.pdf)\n",
    "**Q** Commenter les choix de tous les paramètres."
   ]
  },
  {
   "cell_type": "code",
   "execution_count": null,
   "metadata": {
    "colab": {},
    "colab_type": "code",
    "id": "OyPwPEQFOn4Y",
    "outputId": "d0ddd49b-f8da-44c7-a8e2-00107f918b98",
    "pycharm": {
     "is_executing": false
    }
   },
   "outputs": [],
   "source": [
    "from sklearn.ensemble import RandomForestClassifier \n",
    "# définition des paramètres\n",
    "forest = RandomForestClassifier(n_estimators=500, \n",
    "   criterion='gini', max_depth=None,\n",
    "   min_samples_split=2, min_samples_leaf=1, \n",
    "   max_features='auto', max_leaf_nodes=None,\n",
    "   bootstrap=True, oob_score=True)\n",
    "# apprentissage\n",
    "rfFit = forest.fit(X_train,Y_train)\n",
    "print(1-rfFit.oob_score_)"
   ]
  },
  {
   "cell_type": "code",
   "execution_count": null,
   "metadata": {
    "colab": {},
    "colab_type": "code",
    "id": "Lq_XrqPxOn4a",
    "outputId": "7d478811-5064-4628-9a89-8af2af980951",
    "pycharm": {
     "is_executing": false
    }
   },
   "outputs": [],
   "source": [
    "# erreur de prévision sur le test\n",
    "1-rfFit.score(X_test,Y_test)"
   ]
  },
  {
   "cell_type": "code",
   "execution_count": null,
   "metadata": {
    "colab": {},
    "colab_type": "code",
    "id": "zOTD2gP-On4c",
    "outputId": "46b571b2-dffb-4101-ccaf-99c4a2438d17",
    "pycharm": {
     "is_executing": false
    }
   },
   "outputs": [],
   "source": [
    "# optimisation du paramètre\n",
    "tps0=time.perf_counter()\n",
    "param=[{\"max_features\":list(range(2,10,1))}]\n",
    "rf= GridSearchCV(RandomForestClassifier(n_estimators=100),param,cv=10,n_jobs=-1)\n",
    "rfOpt=rf.fit(X_train, Y_train)\n",
    "# paramètre optimal\n",
    "tps1=(time.perf_counter()-tps0)\n",
    "print(\"Temps r forest = %f, Meilleur taux = %f, Meilleur paramètre = %s\" % (tps1,\n",
    "                                    1. - rfOpt.best_score_,rfOpt.best_params_))"
   ]
  },
  {
   "cell_type": "code",
   "execution_count": null,
   "metadata": {
    "colab": {},
    "colab_type": "code",
    "id": "neLmFe9UOn4e",
    "outputId": "fe66d56c-b98c-4691-af71-a9818ed79ffc",
    "pycharm": {
     "is_executing": false
    }
   },
   "outputs": [],
   "source": [
    "# erreur de prévision sur le test\n",
    "1-rfOpt.score(X_test,Y_test)"
   ]
  },
  {
   "cell_type": "code",
   "execution_count": null,
   "metadata": {
    "colab": {},
    "colab_type": "code",
    "id": "i2o95QszOn4e",
    "outputId": "0faf2a55-7b5c-413f-ebb8-186f9a554b6b",
    "pycharm": {
     "is_executing": false
    }
   },
   "outputs": [],
   "source": [
    "# prévision\n",
    "y_chap = rfFit.predict(X_test)\n",
    "# matrice de confusion\n",
    "table=pd.crosstab(y_chap,Y_test)\n",
    "print(table)"
   ]
  },
  {
   "cell_type": "code",
   "execution_count": null,
   "metadata": {
    "colab": {},
    "colab_type": "code",
    "id": "VLfLH5gxOn4g",
    "outputId": "5b197a31-715f-4090-e1db-58c195a53c0c",
    "pycharm": {
     "is_executing": false
    }
   },
   "outputs": [],
   "source": [
    "rf= RandomForestClassifier(n_estimators=100,max_features=6)\n",
    "rfFit=rf.fit(X_train, Y_train)\n",
    "# Importance décroissante des variables\n",
    "importances = rfFit.feature_importances_\n",
    "indices = np.argsort(importances)[::-1]\n",
    "for f in range(20):\n",
    "    print(X_train.columns[indices[f]], importances[indices[f]])"
   ]
  },
  {
   "cell_type": "code",
   "execution_count": null,
   "metadata": {
    "colab": {},
    "colab_type": "code",
    "id": "YWPG_g29On4i",
    "outputId": "c8122369-18d0-4c00-c128-c4e50cf0b73b",
    "pycharm": {
     "is_executing": false
    }
   },
   "outputs": [],
   "source": [
    "# Graphe des importances\n",
    "plt.figure()\n",
    "plt.title(\"Importances des variables\")\n",
    "plt.bar(range(X_train.shape[1]), importances[indices])\n",
    "plt.xticks(range(X_train.shape[1]), indices)\n",
    "plt.xlim([-1, X_train.shape[1]])\n",
    "plt.show()"
   ]
  },
  {
   "cell_type": "markdown",
   "metadata": {
    "colab_type": "text",
    "id": "2XTO0sVwOn4i"
   },
   "source": [
    "**Q** Comment est obtenu le graphique ? Quelle importance ? Comment interpréter ces résultats ?"
   ]
  },
  {
   "cell_type": "markdown",
   "metadata": {
    "colab_type": "text",
    "id": "wN9guhqhOn4j"
   },
   "source": [
    "### 2.7 [Gradient boosting](http://wikistat.fr/pdf/st-m-app-agreg.pdf)\n",
    "**Q** Pourquoi pas de paramètre `njobs=-1`? \n",
    "\n",
    "**Q** En plus de celui `optimiser`, quels sont les 2 principaux paramètres cet algorithme laissés par défaut ?"
   ]
  },
  {
   "cell_type": "code",
   "execution_count": null,
   "metadata": {
    "colab": {},
    "colab_type": "code",
    "id": "omBgJBo4On4j",
    "outputId": "bc2edf6e-aaa0-4cd2-bbcd-c5e562d3699c",
    "pycharm": {
     "is_executing": false
    }
   },
   "outputs": [],
   "source": [
    "from sklearn.ensemble import GradientBoostingClassifier\n",
    "tps0=time.perf_counter()\n",
    "param=[{\"n_estimators\":[200, 250, 300]}]\n",
    "gbm= GridSearchCV(GradientBoostingClassifier(),param,cv=10)\n",
    "gbmOpt=gbm.fit(X_train, Y_train)\n",
    "# paramètre optimal\n",
    "tps1=(time.perf_counter()-tps0)\n",
    "print(\"Temps boosting = %f, Meilleur taux = %f, Meilleur paramètre = %s\" % (tps1,\n",
    "                        1. - gbmOpt.best_score_,gbmOpt.best_params_))"
   ]
  },
  {
   "cell_type": "code",
   "execution_count": null,
   "metadata": {
    "colab": {},
    "colab_type": "code",
    "id": "w8WEMm74On4n",
    "outputId": "b80d02f8-f357-42ba-8a6a-d085dd8b3284",
    "pycharm": {
     "is_executing": false
    }
   },
   "outputs": [],
   "source": [
    "# erreur de prévision sur le test\n",
    "1-gbmOpt.score(X_test,Y_test)"
   ]
  },
  {
   "cell_type": "code",
   "execution_count": null,
   "metadata": {
    "colab": {},
    "colab_type": "code",
    "id": "bK0kW65nOn4o",
    "outputId": "f5140caf-3ad0-494a-d8b4-feff0b1c299d",
    "pycharm": {
     "is_executing": false
    }
   },
   "outputs": [],
   "source": [
    "# prévision de l'échantillon test\n",
    "y_chap = gbmOpt.predict(X_test)\n",
    "# matrice de confusion\n",
    "table=pd.crosstab(y_chap,Y_test)\n",
    "print(table)"
   ]
  },
  {
   "cell_type": "markdown",
   "metadata": {
    "colab_type": "text",
    "id": "CB1OE45hOn4p"
   },
   "source": [
    "## 3 Comparaison des méthodes\n",
    "\n",
    "### 3.1 [Courbes ROC](http://wikistat.fr/pdf/st-m-app-risque.pdf)\n",
    "**Q** En cohérence avec les résultats précédents, quelle est la courbe la plus au dessus des autres? Commenter ce graphique, que signifie AUC ?"
   ]
  },
  {
   "cell_type": "code",
   "execution_count": null,
   "metadata": {
    "colab": {},
    "colab_type": "code",
    "id": "19VYyzHtOn4q",
    "pycharm": {
     "is_executing": false
    }
   },
   "outputs": [],
   "source": [
    "from sklearn.metrics import roc_curve\n",
    "listMethod=[[\"GBM\",gbmOpt],[\"RF\",rfOpt],[\"NN\",nnetOpt],[\"Tree\",treeOpt],[\"Logit\",logitOpt]]"
   ]
  },
  {
   "cell_type": "code",
   "execution_count": null,
   "metadata": {
    "colab": {},
    "colab_type": "code",
    "id": "j-vmEha6On4r",
    "outputId": "c4f0d328-82ad-47d8-9103-6f41f8f7490e",
    "pycharm": {
     "is_executing": false
    }
   },
   "outputs": [],
   "source": [
    "# Courbes ROC des précédents modèles optimaux\n",
    "for method in enumerate(listMethod):\n",
    "    probas_ = method[1][1].fit(Xnet_train, Y_train).predict_proba(Xnet_test)\n",
    "    fpr, tpr, thresholds = roc_curve(Y_test,probas_[:,1], pos_label=\"incLow\")\n",
    "    plt.plot(fpr, tpr, lw=1,label=\"%s\"%method[1][0]),\n",
    "plt.xlabel('Taux de faux positifs')\n",
    "plt.ylabel('Taux de vrais positifs')\n",
    "plt.legend(loc=\"best\")\n",
    "plt.show()"
   ]
  },
  {
   "cell_type": "markdown",
   "metadata": {
    "colab_type": "text",
    "id": "th_GOgLxOn4s"
   },
   "source": [
    "### 3.2 [Validation croisée](http://wikistat.fr/pdf/st-m-app-risque.pdf) *Monte Carlo*\n",
    "**Q** Quelle différence entre la validation croisée Monte Carlo et la V-fold cross validation?\n",
    "\n",
    "**Q** Les variables sont « standardisées ». Pourquoi ? Est-ce important et pour quelles méthodes? Commenter les résultats. Quelle méthode choisir? Quel autre algorithme serait-il pertinent de tester? "
   ]
  },
  {
   "cell_type": "code",
   "execution_count": null,
   "metadata": {
    "colab": {},
    "colab_type": "code",
    "id": "5fug0Zi2On4t",
    "outputId": "4838d9fe-525f-44e0-8ac5-52da6f0bab61",
    "pycharm": {
     "is_executing": false
    }
   },
   "outputs": [],
   "source": [
    "from sklearn.utils import check_random_state\n",
    "tps0=time.perf_counter()\n",
    "check_random_state(11)\n",
    "# définition des estimateurs\n",
    "logit= LogisticRegression(penalty=\"l1\",solver=\"liblinear\")\n",
    "tree = DecisionTreeClassifier()\n",
    "nnet = MLPClassifier(max_iter=400)\n",
    "rf   = RandomForestClassifier(n_estimators=200)\n",
    "gbm  = GradientBoostingClassifier()\n",
    "# Nombre d'itérations\n",
    "B=10 # pour utiliser le programme, mettre plutôt B=10\n",
    "# définition des grilles de paramètres\n",
    "listMethGrid=[[gbm,{\"n_estimators\":[200, 250, 300]}],\n",
    "    [rf,{\"max_features\":list(range(5,10))}],\n",
    "    [nnet,{\"hidden_layer_sizes\":list([(3,),(4,),(5,)])}],\n",
    "    [tree,{\"max_depth\":list(range(5,10))}],\n",
    "    [logit,{\"C\":[0.8,0.9,1,1.1,1.2]}]]\n",
    "# Initialisation à 0 \n",
    "arrayErreur=np.empty((B,5))\n",
    "for i in range(B):   # itérations sur B échantillons test\n",
    "    # extraction apprentissage et test\n",
    "    X_train,X_test,Y_train,Y_test=train_test_split(X,Y,test_size=1000)\n",
    "    scaler = StandardScaler()  \n",
    "    scaler.fit(X_train.astype(float))  \n",
    "    Xnet_train = scaler.transform(X_train.astype(float))  \n",
    "    # Meme transformation sur le test\n",
    "    Xnet_test = scaler.transform(X_test.astype(float))\n",
    "    # optimisation de chaque méthode et calcul de l'erreur sur le test\n",
    "    for j,(method, grid_list) in enumerate(listMethGrid):\n",
    "        methodGrid=GridSearchCV(method,grid_list,cv=10,n_jobs=-1).fit(X_train, Y_train)\n",
    "        methodOpt = methodGrid.best_estimator_\n",
    "        methFit=methodOpt.fit(Xnet_train, Y_train)\n",
    "        arrayErreur[i,j]=1-methFit.score(Xnet_test,Y_test)\n",
    "tps1=time.perf_counter()"
   ]
  },
  {
   "cell_type": "code",
   "execution_count": null,
   "metadata": {
    "colab": {},
    "colab_type": "code",
    "id": "hhYTe6dmOn4v",
    "outputId": "7092826c-2479-4244-cb49-1b705691b82d",
    "pycharm": {
     "is_executing": false
    }
   },
   "outputs": [],
   "source": [
    "dataframeErreur=pd.DataFrame(arrayErreur,columns=[\"GBM\",\"RF\",\"NN\",\"Tree\",\"Logit\"])\n",
    "print(\"Temps execution :\",(tps1 - tps0))"
   ]
  },
  {
   "cell_type": "code",
   "execution_count": null,
   "metadata": {
    "colab": {},
    "colab_type": "code",
    "id": "wz0lvppAOn4x",
    "outputId": "6ffa6e4b-859b-4ecc-aa59-e7cf9f16d213",
    "pycharm": {
     "is_executing": false
    }
   },
   "outputs": [],
   "source": [
    "dataframeErreur[[\"GBM\",\"RF\",\"NN\",\"Tree\",\"Logit\"]].boxplot(return_type='dict')\n",
    "plt.show()"
   ]
  },
  {
   "cell_type": "code",
   "execution_count": null,
   "metadata": {
    "colab": {},
    "colab_type": "code",
    "id": "nIqPunenOn41",
    "outputId": "da567567-dae0-4f87-8a0a-f651c90c3326",
    "pycharm": {
     "is_executing": false
    }
   },
   "outputs": [],
   "source": [
    "# Moyennes\n",
    "dataframeErreur.mean()"
   ]
  },
  {
   "cell_type": "markdown",
   "metadata": {
    "colab_type": "text",
    "collapsed": true,
    "id": "oElkbBcVOn42"
   },
   "source": [
    "**Q** L'algoritme `GBM` n'a pas été complètement optimisé. Une optimisation fine de l'algorithme `XGBoost` permettra-t-elle une meilleure performance que celle de random forest?\n",
    "\n",
    "**Q** Les SVM ne font pas partie de la comparaison à cause de temps rédhibitoires d’exécution. A quoi est-ce dû ? Commenter les temps d’exécution des différentes étapes. \n",
    "\n",
    "**Q** Les temps d'exécution deviennent longs pour un ordinateur de bureau standard. Comment évaluer l'impact de la taille de l'échantillon sur le temps d'exécution et la précision des prévisions? \n",
    "\n",
    "**Q** Est-il réellement nécessaire d'entraîner de type d'algorithme et pour ce type de problème sur de gros jeux de données?"
   ]
  },
  {
   "cell_type": "code",
   "execution_count": null,
   "metadata": {
    "colab": {},
    "colab_type": "code",
    "id": "dCqCgK8-nK84",
    "pycharm": {
     "is_executing": false
    }
   },
   "outputs": [],
   "source": []
  },
  {
   "cell_type": "code",
   "execution_count": null,
   "metadata": {
    "pycharm": {
     "is_executing": false,
     "name": "#%%\n"
    }
   },
   "outputs": [],
   "source": []
  },
  {
   "cell_type": "code",
   "execution_count": null,
   "metadata": {
    "pycharm": {
     "is_executing": false,
     "name": "#%%\n"
    }
   },
   "outputs": [],
   "source": []
  },
  {
   "cell_type": "code",
   "execution_count": null,
   "metadata": {
    "pycharm": {
     "is_executing": false,
     "name": "#%%\n"
    }
   },
   "outputs": [],
   "source": []
  },
  {
   "cell_type": "code",
   "execution_count": null,
   "metadata": {
    "pycharm": {
     "is_executing": false,
     "name": "#%%\n"
    }
   },
   "outputs": [],
   "source": []
  },
  {
   "cell_type": "code",
   "execution_count": null,
   "metadata": {
    "pycharm": {
     "is_executing": false,
     "name": "#%%\n"
    }
   },
   "outputs": [],
   "source": []
  },
  {
   "cell_type": "code",
   "execution_count": null,
   "metadata": {
    "pycharm": {
     "is_executing": false,
     "name": "#%%\n"
    }
   },
   "outputs": [],
   "source": []
  },
  {
   "cell_type": "code",
   "execution_count": null,
   "metadata": {
    "pycharm": {
     "is_executing": false,
     "name": "#%%\n"
    }
   },
   "outputs": [],
   "source": []
  },
  {
   "cell_type": "code",
   "execution_count": null,
   "metadata": {
    "pycharm": {
     "is_executing": false,
     "name": "#%%\n"
    }
   },
   "outputs": [],
   "source": []
  },
  {
   "cell_type": "code",
   "execution_count": null,
   "metadata": {
    "pycharm": {
     "is_executing": false,
     "name": "#%%\n"
    }
   },
   "outputs": [],
   "source": []
  },
  {
   "cell_type": "code",
   "execution_count": null,
   "metadata": {
    "pycharm": {
     "is_executing": false,
     "name": "#%%\n"
    }
   },
   "outputs": [],
   "source": []
  },
  {
   "cell_type": "code",
   "execution_count": null,
   "metadata": {
    "pycharm": {
     "is_executing": false,
     "name": "#%%\n"
    }
   },
   "outputs": [],
   "source": []
  },
  {
   "cell_type": "code",
   "execution_count": null,
   "metadata": {
    "pycharm": {
     "is_executing": false,
     "name": "#%%\n"
    }
   },
   "outputs": [],
   "source": []
  },
  {
   "cell_type": "code",
   "execution_count": null,
   "metadata": {
    "pycharm": {
     "is_executing": false,
     "name": "#%%\n"
    }
   },
   "outputs": [],
   "source": []
  },
  {
   "cell_type": "code",
   "execution_count": null,
   "metadata": {
    "pycharm": {
     "is_executing": false,
     "name": "#%%\n"
    }
   },
   "outputs": [],
   "source": []
  },
  {
   "cell_type": "code",
   "execution_count": null,
   "metadata": {
    "pycharm": {
     "is_executing": false,
     "name": "#%%\n"
    }
   },
   "outputs": [],
   "source": []
  },
  {
   "cell_type": "code",
   "execution_count": null,
   "metadata": {
    "pycharm": {
     "is_executing": false,
     "name": "#%%\n"
    }
   },
   "outputs": [],
   "source": []
  },
  {
   "cell_type": "code",
   "execution_count": null,
   "metadata": {
    "pycharm": {
     "is_executing": false,
     "name": "#%%\n"
    }
   },
   "outputs": [],
   "source": []
  },
  {
   "cell_type": "code",
   "execution_count": null,
   "metadata": {
    "pycharm": {
     "is_executing": false,
     "name": "#%%\n"
    }
   },
   "outputs": [],
   "source": [
    "\n"
   ]
  }
 ],
 "metadata": {
  "colab": {
   "collapsed_sections": [
    "y_-jiAnnOn4W",
    "wN9guhqhOn4j",
    "th_GOgLxOn4s"
   ],
   "name": "Apprent-Python-AdultCensus.ipynb",
   "provenance": [],
   "toc_visible": true
  },
  "kernelspec": {
   "display_name": "Python 3",
   "language": "python",
   "name": "python3"
  },
  "language_info": {
   "codemirror_mode": {
    "name": "ipython",
    "version": 3
   },
   "file_extension": ".py",
   "mimetype": "text/x-python",
   "name": "python",
   "nbconvert_exporter": "python",
   "pygments_lexer": "ipython3",
   "version": "3.7.5"
  },
  "nbTranslate": {
   "displayLangs": [
    "*"
   ],
   "hotkey": "alt-t",
   "langInMainMenu": true,
   "sourceLang": "en",
   "targetLang": "fr",
   "useGoogleTranslate": true
  },
  "pycharm": {
   "stem_cell": {
    "cell_type": "raw",
    "metadata": {
     "collapsed": false
    },
    "source": []
   }
  },
  "toc": {
   "base_numbering": 1,
   "nav_menu": {},
   "number_sections": true,
   "sideBar": true,
   "skip_h1_title": false,
   "title_cell": "Table of Contents",
   "title_sidebar": "Contents",
   "toc_cell": false,
   "toc_position": {},
   "toc_section_display": true,
   "toc_window_display": false
  },
  "varInspector": {
   "cols": {
    "lenName": 16,
    "lenType": 16,
    "lenVar": 40
   },
   "kernels_config": {
    "python": {
     "delete_cmd_postfix": "",
     "delete_cmd_prefix": "del ",
     "library": "var_list.py",
     "varRefreshCmd": "print(var_dic_list())"
    },
    "r": {
     "delete_cmd_postfix": ") ",
     "delete_cmd_prefix": "rm(",
     "library": "var_list.r",
     "varRefreshCmd": "cat(var_dic_list()) "
    }
   },
   "types_to_exclude": [
    "module",
    "function",
    "builtin_function_or_method",
    "instance",
    "_Feature"
   ],
   "window_display": false
  }
 },
 "nbformat": 4,
 "nbformat_minor": 1
}
